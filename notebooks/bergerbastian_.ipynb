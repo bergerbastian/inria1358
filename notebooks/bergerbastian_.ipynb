{
 "cells": [
  {
   "cell_type": "code",
   "execution_count": 2,
   "id": "3641fa4c-629a-458c-8f57-6fe8999ba6a9",
   "metadata": {
    "execution": {
     "iopub.execute_input": "2023-09-18T16:02:36.255011Z",
     "iopub.status.busy": "2023-09-18T16:02:36.254373Z",
     "iopub.status.idle": "2023-09-18T16:02:37.007993Z",
     "shell.execute_reply": "2023-09-18T16:02:37.007376Z",
     "shell.execute_reply.started": "2023-09-18T16:02:36.254976Z"
    }
   },
   "outputs": [
    {
     "name": "stdout",
     "output_type": "stream",
     "text": [
      "Requirement already satisfied: google-cloud-storage in /Users/bastianberger/.pyenv/versions/3.10.6/envs/inria1358/lib/python3.10/site-packages (2.10.0)\n",
      "Requirement already satisfied: google-auth<3.0dev,>=1.25.0 in /Users/bastianberger/.pyenv/versions/3.10.6/envs/inria1358/lib/python3.10/site-packages (from google-cloud-storage) (2.23.0)\n",
      "Requirement already satisfied: google-api-core!=2.0.*,!=2.1.*,!=2.2.*,!=2.3.0,<3.0.0dev,>=1.31.5 in /Users/bastianberger/.pyenv/versions/3.10.6/envs/inria1358/lib/python3.10/site-packages (from google-cloud-storage) (2.11.1)\n",
      "Requirement already satisfied: google-cloud-core<3.0dev,>=2.3.0 in /Users/bastianberger/.pyenv/versions/3.10.6/envs/inria1358/lib/python3.10/site-packages (from google-cloud-storage) (2.3.3)\n",
      "Requirement already satisfied: google-resumable-media>=2.3.2 in /Users/bastianberger/.pyenv/versions/3.10.6/envs/inria1358/lib/python3.10/site-packages (from google-cloud-storage) (2.6.0)\n",
      "Requirement already satisfied: requests<3.0.0dev,>=2.18.0 in /Users/bastianberger/.pyenv/versions/3.10.6/envs/inria1358/lib/python3.10/site-packages (from google-cloud-storage) (2.31.0)\n",
      "Requirement already satisfied: googleapis-common-protos<2.0.dev0,>=1.56.2 in /Users/bastianberger/.pyenv/versions/3.10.6/envs/inria1358/lib/python3.10/site-packages (from google-api-core!=2.0.*,!=2.1.*,!=2.2.*,!=2.3.0,<3.0.0dev,>=1.31.5->google-cloud-storage) (1.60.0)\n",
      "Requirement already satisfied: protobuf!=3.20.0,!=3.20.1,!=4.21.0,!=4.21.1,!=4.21.2,!=4.21.3,!=4.21.4,!=4.21.5,<5.0.0.dev0,>=3.19.5 in /Users/bastianberger/.pyenv/versions/3.10.6/envs/inria1358/lib/python3.10/site-packages (from google-api-core!=2.0.*,!=2.1.*,!=2.2.*,!=2.3.0,<3.0.0dev,>=1.31.5->google-cloud-storage) (4.24.3)\n",
      "Requirement already satisfied: cachetools<6.0,>=2.0.0 in /Users/bastianberger/.pyenv/versions/3.10.6/envs/inria1358/lib/python3.10/site-packages (from google-auth<3.0dev,>=1.25.0->google-cloud-storage) (5.3.1)\n",
      "Requirement already satisfied: pyasn1-modules>=0.2.1 in /Users/bastianberger/.pyenv/versions/3.10.6/envs/inria1358/lib/python3.10/site-packages (from google-auth<3.0dev,>=1.25.0->google-cloud-storage) (0.3.0)\n",
      "Requirement already satisfied: rsa<5,>=3.1.4 in /Users/bastianberger/.pyenv/versions/3.10.6/envs/inria1358/lib/python3.10/site-packages (from google-auth<3.0dev,>=1.25.0->google-cloud-storage) (4.9)\n",
      "Requirement already satisfied: urllib3<2.0 in /Users/bastianberger/.pyenv/versions/3.10.6/envs/inria1358/lib/python3.10/site-packages (from google-auth<3.0dev,>=1.25.0->google-cloud-storage) (1.26.16)\n",
      "Requirement already satisfied: google-crc32c<2.0dev,>=1.0 in /Users/bastianberger/.pyenv/versions/3.10.6/envs/inria1358/lib/python3.10/site-packages (from google-resumable-media>=2.3.2->google-cloud-storage) (1.5.0)\n",
      "Requirement already satisfied: charset-normalizer<4,>=2 in /Users/bastianberger/.pyenv/versions/3.10.6/envs/inria1358/lib/python3.10/site-packages (from requests<3.0.0dev,>=2.18.0->google-cloud-storage) (3.2.0)\n",
      "Requirement already satisfied: idna<4,>=2.5 in /Users/bastianberger/.pyenv/versions/3.10.6/envs/inria1358/lib/python3.10/site-packages (from requests<3.0.0dev,>=2.18.0->google-cloud-storage) (3.4)\n",
      "Requirement already satisfied: certifi>=2017.4.17 in /Users/bastianberger/.pyenv/versions/3.10.6/envs/inria1358/lib/python3.10/site-packages (from requests<3.0.0dev,>=2.18.0->google-cloud-storage) (2023.7.22)\n",
      "Requirement already satisfied: pyasn1<0.6.0,>=0.4.6 in /Users/bastianberger/.pyenv/versions/3.10.6/envs/inria1358/lib/python3.10/site-packages (from pyasn1-modules>=0.2.1->google-auth<3.0dev,>=1.25.0->google-cloud-storage) (0.5.0)\n"
     ]
    }
   ],
   "source": [
    "! pip install google-cloud-storage"
   ]
  },
  {
   "cell_type": "code",
   "execution_count": null,
   "id": "d8e31963-27e9-4b98-b4ea-7f61d41ca7c6",
   "metadata": {},
   "outputs": [],
   "source": []
  }
 ],
 "metadata": {
  "kernelspec": {
   "display_name": "Python 3 (ipykernel)",
   "language": "python",
   "name": "python3"
  },
  "language_info": {
   "codemirror_mode": {
    "name": "ipython",
    "version": 3
   },
   "file_extension": ".py",
   "mimetype": "text/x-python",
   "name": "python",
   "nbconvert_exporter": "python",
   "pygments_lexer": "ipython3",
   "version": "3.10.6"
  }
 },
 "nbformat": 4,
 "nbformat_minor": 5
}
