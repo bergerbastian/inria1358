{
 "cells": [
  {
   "cell_type": "markdown",
   "id": "a4ff7c5d-2d95-4dac-a265-a90f2667f538",
   "metadata": {},
   "source": [
    "# Transform TIFs to png"
   ]
  },
  {
   "cell_type": "code",
   "execution_count": 9,
   "id": "0cf6b97b-26ad-4b86-9fbd-033cf7595bc0",
   "metadata": {
    "execution": {
     "iopub.execute_input": "2023-09-21T08:25:21.086539Z",
     "iopub.status.busy": "2023-09-21T08:25:21.086000Z",
     "iopub.status.idle": "2023-09-21T08:25:24.905565Z",
     "shell.execute_reply": "2023-09-21T08:25:24.905271Z",
     "shell.execute_reply.started": "2023-09-21T08:25:21.086503Z"
    }
   },
   "outputs": [],
   "source": [
    "from PIL import Image\n",
    "import numpy as np\n",
    "from patchify import patchify\n",
    "import matplotlib.pyplot as plt\n",
    "import os\n",
    "from tqdm import tqdm\n",
    "import tensorflow as tf\n",
    "import tensorflow_io as tfio"
   ]
  },
  {
   "cell_type": "code",
   "execution_count": 10,
   "id": "93364fa8-5889-43b7-9644-16c0b8ceede3",
   "metadata": {
    "execution": {
     "iopub.execute_input": "2023-09-21T08:25:34.414516Z",
     "iopub.status.busy": "2023-09-21T08:25:34.413904Z",
     "iopub.status.idle": "2023-09-21T08:25:34.423506Z",
     "shell.execute_reply": "2023-09-21T08:25:34.422644Z",
     "shell.execute_reply.started": "2023-09-21T08:25:34.414489Z"
    }
   },
   "outputs": [],
   "source": [
    "def make_patches(source_path, save_path, set):\n",
    "    subfolders = ['images']\n",
    "    if set == 'train':\n",
    "        subfolders.append('gt')\n",
    "    \n",
    "    for subfolder in subfolders:\n",
    "        load_path = f'{source_path}/{set}/{subfolder}'\n",
    "        save_path_n = f'{save_path}/{set}/{subfolder}'\n",
    "        # Check whether the specified path exists or not\n",
    "        isExist = os.path.exists(save_path_n)\n",
    "        if not isExist:\n",
    "            os.makedirs(save_path_n)\n",
    "        print(\"-\"*10)\n",
    "        print(f\" Iterating through folder: {subfolder}\")\n",
    "        print(\"-\"*10)\n",
    "        \n",
    "        dimensions = (200,200) if subfolder == \"gt\" else (200,200,3)\n",
    "        \n",
    "        for filename in tqdm(os.listdir(load_path)):\n",
    "            im = Image.open(f'{load_path}/{filename}')\n",
    "            imarray = np.array(im)\n",
    "            patches = patchify(imarray, dimensions, step=200)\n",
    "            for i, row in enumerate(patches):\n",
    "                for j, col in enumerate(row):\n",
    "                    if subfolder == \"gt\":\n",
    "                        im = Image.fromarray(col)\n",
    "                    else:\n",
    "                        im = Image.fromarray(col[0])\n",
    "                    im.save(f'{save_path_n}/{filename}__{i}__{j}.png')"
   ]
  },
  {
   "cell_type": "code",
   "execution_count": 11,
   "id": "f81d151e-2548-47f9-a73a-0021c273ad42",
   "metadata": {
    "execution": {
     "iopub.execute_input": "2023-09-21T08:31:07.467794Z",
     "iopub.status.busy": "2023-09-21T08:31:07.467323Z",
     "iopub.status.idle": "2023-09-21T08:31:07.471992Z",
     "shell.execute_reply": "2023-09-21T08:31:07.470824Z",
     "shell.execute_reply.started": "2023-09-21T08:31:07.467765Z"
    }
   },
   "outputs": [],
   "source": [
    "#Define folder structures before and adapt paths\n",
    "\n",
    "source_path = '/Users/bastianberger/code/bergerbastian/inria1358/raw_data/AerialImageDataset'\n",
    "save_path = '/Users/bastianberger/code/bergerbastian/inria1358/raw_data/patches'"
   ]
  },
  {
   "cell_type": "code",
   "execution_count": null,
   "id": "4ce6009a-f15f-4316-93cf-ddfbf13ea4b0",
   "metadata": {},
   "outputs": [],
   "source": [
    "#Transform train set\n",
    "make_patches(source_path, save_path, \"train\")"
   ]
  },
  {
   "cell_type": "code",
   "execution_count": null,
   "id": "bb4686a1-1bc6-4a0c-a2ba-81439569a7e5",
   "metadata": {},
   "outputs": [],
   "source": [
    "#Transfrom test set\n",
    "make_patches(source_path, save_path, \"test\")"
   ]
  }
 ],
 "metadata": {
  "kernelspec": {
   "display_name": "Python 3 (ipykernel)",
   "language": "python",
   "name": "python3"
  },
  "language_info": {
   "codemirror_mode": {
    "name": "ipython",
    "version": 3
   },
   "file_extension": ".py",
   "mimetype": "text/x-python",
   "name": "python",
   "nbconvert_exporter": "python",
   "pygments_lexer": "ipython3",
   "version": "3.10.6"
  }
 },
 "nbformat": 4,
 "nbformat_minor": 5
}
