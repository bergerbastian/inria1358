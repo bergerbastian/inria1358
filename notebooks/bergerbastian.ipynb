{
 "cells": [
  {
   "cell_type": "markdown",
   "id": "a4ff7c5d-2d95-4dac-a265-a90f2667f538",
   "metadata": {},
   "source": [
    "Transform TIFs to jpeg"
   ]
  },
  {
   "cell_type": "code",
   "execution_count": 1,
   "id": "0cf6b97b-26ad-4b86-9fbd-033cf7595bc0",
   "metadata": {
    "execution": {
     "iopub.execute_input": "2023-09-21T08:11:22.199167Z",
     "iopub.status.busy": "2023-09-21T08:11:22.198552Z",
     "iopub.status.idle": "2023-09-21T08:11:23.320511Z",
     "shell.execute_reply": "2023-09-21T08:11:23.320020Z",
     "shell.execute_reply.started": "2023-09-21T08:11:22.199128Z"
    }
   },
   "outputs": [],
   "source": [
    "from PIL import Image\n",
    "import numpy as np\n",
    "from patchify import patchify\n",
    "import matplotlib.pyplot as plt\n",
    "import os\n",
    "import pandas as pd\n",
    "from tqdm import tqdm"
   ]
  },
  {
   "cell_type": "code",
   "execution_count": 8,
   "id": "93364fa8-5889-43b7-9644-16c0b8ceede3",
   "metadata": {
    "execution": {
     "iopub.execute_input": "2023-09-21T08:14:56.285212Z",
     "iopub.status.busy": "2023-09-21T08:14:56.284683Z",
     "iopub.status.idle": "2023-09-21T08:14:56.294606Z",
     "shell.execute_reply": "2023-09-21T08:14:56.293888Z",
     "shell.execute_reply.started": "2023-09-21T08:14:56.285181Z"
    }
   },
   "outputs": [],
   "source": [
    "def make_patches(source_path, save_path, set):\n",
    "    subfolders = ['images']\n",
    "\n",
    "    if set == 'train':\n",
    "        subfolders.append('gt')\n",
    "\n",
    "    for subfolder in subfolders:\n",
    "        patch_list = []\n",
    "        load_path = f'{source_path}/{set}/{subfolder}'\n",
    "        for filename in tqdm(os.listdir(load_path)):\n",
    "            im = Image.open(f'{load_path}/{filename}')\n",
    "            imarray = np.array(im)\n",
    "            if subfolder == 'gt':\n",
    "                patches = patchify(imarray, (200,200), step=200)\n",
    "            else:\n",
    "                patches = patchify(imarray, (200,200,3), step=200)\n",
    "            for i, row in enumerate(patches):\n",
    "                for j, col in enumerate(row):\n",
    "                    if subfolder == 'gt':\n",
    "                        im = Image.fromarray(col)\n",
    "                    else:\n",
    "                        im = Image.fromarray(col[0])\n",
    "                    patch_pwd=f'{save_path}/{set}/{subfolder}/{filename}__{i}__{j}.jpg'\n",
    "                    patch_name = f'{filename}__{i}__{j}.jpg'\n",
    "                    tmp_dict = {'patch_name': patch_name, 'file_name': filename}\n",
    "                    patch_list.append(tmp_dict)\n",
    "                    im.save(patch_pwd)\n",
    "        csv = pd.DataFrame(patch_list)\n",
    "        csv.to_csv(f'{save_path}/{set}/{subfolder}/{set}_{subfolder}.csv', index=False)"
   ]
  },
  {
   "cell_type": "code",
   "execution_count": 6,
   "id": "f81d151e-2548-47f9-a73a-0021c273ad42",
   "metadata": {
    "execution": {
     "iopub.execute_input": "2023-09-21T08:12:14.080131Z",
     "iopub.status.busy": "2023-09-21T08:12:14.079429Z",
     "iopub.status.idle": "2023-09-21T08:12:14.086623Z",
     "shell.execute_reply": "2023-09-21T08:12:14.085610Z",
     "shell.execute_reply.started": "2023-09-21T08:12:14.080083Z"
    }
   },
   "outputs": [],
   "source": [
    "#Define folder structures beofre and adapt paths\n",
    "\n",
    "source_path = '/Users/bastianberger/code/bergerbastian/inria1358/raw_data/AerialImageDataset'\n",
    "save_path = '/Users/bastianberger/code/bergerbastian/inria1358/raw_data/patches'"
   ]
  },
  {
   "cell_type": "code",
   "execution_count": null,
   "id": "4ce6009a-f15f-4316-93cf-ddfbf13ea4b0",
   "metadata": {},
   "outputs": [],
   "source": [
    "#Transform train set\n",
    "make_patches(source_path, save_path, \"train\")"
   ]
  },
  {
   "cell_type": "code",
   "execution_count": null,
   "id": "bb4686a1-1bc6-4a0c-a2ba-81439569a7e5",
   "metadata": {},
   "outputs": [],
   "source": [
    "#Transfrom test set\n",
    "make_patches(source_path, save_path, \"test\")"
   ]
  }
 ],
 "metadata": {
  "kernelspec": {
   "display_name": "Python 3 (ipykernel)",
   "language": "python",
   "name": "python3"
  },
  "language_info": {
   "codemirror_mode": {
    "name": "ipython",
    "version": 3
   },
   "file_extension": ".py",
   "mimetype": "text/x-python",
   "name": "python",
   "nbconvert_exporter": "python",
   "pygments_lexer": "ipython3",
   "version": "3.10.6"
  }
 },
 "nbformat": 4,
 "nbformat_minor": 5
}
