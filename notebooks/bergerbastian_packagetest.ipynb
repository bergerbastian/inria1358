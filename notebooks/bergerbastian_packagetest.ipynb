{
 "cells": [
  {
   "cell_type": "code",
   "execution_count": 1,
   "metadata": {},
   "outputs": [],
   "source": [
    "import os\n",
    "import tensorflow as tf\n",
    "from sklearn.model_selection import train_test_split"
   ]
  },
  {
   "cell_type": "code",
   "execution_count": 16,
   "metadata": {},
   "outputs": [],
   "source": [
    "def load_and_preprocess_data(image_path, mask_path=None):\n",
    "    # Load and preprocess the image\n",
    "    image = tf.io.read_file(image_path)\n",
    "    image = tf.io.decode_png(image, channels=3)\n",
    "    image = image/255\n",
    "    #image = tf.pad(image, [[12,12], [12,12], [0,0]], mode='REFLECT') #To be removed and model adjusted\n",
    "\n",
    "\n",
    "    # Load and preprocess the mask image\n",
    "    if mask_path is not None:\n",
    "        mask = tf.io.read_file(mask_path)\n",
    "        mask = tf.io.decode_png(mask, channels=1)\n",
    "        mask = mask/255\n",
    "        #mask = tf.pad(mask, [[12,12], [12,12], [0,0]], mode='REFLECT') #To be removed and model adjusted\n",
    "\n",
    "        return image, mask\n",
    "    else:\n",
    "        return image"
   ]
  },
  {
   "cell_type": "code",
   "execution_count": 2,
   "metadata": {},
   "outputs": [],
   "source": [
    "image_dir = \"/Users/bastianberger/code/bergerbastian/inria1358/raw_data/patches/train/images\"\n",
    "mask_dir = \"/Users/bastianberger/code/bergerbastian/inria1358/raw_data/patches/train/gt\""
   ]
  },
  {
   "cell_type": "code",
   "execution_count": 3,
   "metadata": {},
   "outputs": [],
   "source": [
    "image_path = [os.path.join(image_dir, filename) for filename in os.listdir(image_dir)]\n",
    "mask_path = [os.path.join(mask_dir, filename) for filename in os.listdir(mask_dir)] if mask_dir else None"
   ]
  },
  {
   "cell_type": "code",
   "execution_count": 23,
   "metadata": {},
   "outputs": [
    {
     "data": {
      "text/plain": [
       "33750.0"
      ]
     },
     "execution_count": 23,
     "metadata": {},
     "output_type": "execute_result"
    }
   ],
   "source": [
    "len(image_path) * .3"
   ]
  },
  {
   "cell_type": "code",
   "execution_count": 32,
   "metadata": {},
   "outputs": [],
   "source": [
    "image_path_subset, _, mask_path_subset, _ = train_test_split(image_path, mask_path, train_size=1)"
   ]
  },
  {
   "cell_type": "code",
   "execution_count": 33,
   "metadata": {},
   "outputs": [
    {
     "data": {
      "text/plain": [
       "(1, 112500)"
      ]
     },
     "execution_count": 33,
     "metadata": {},
     "output_type": "execute_result"
    }
   ],
   "source": [
    "len(image_path_subset), len(image_path)"
   ]
  },
  {
   "cell_type": "code",
   "execution_count": 13,
   "metadata": {},
   "outputs": [
    {
     "data": {
      "text/plain": [
       "(56250, 112500)"
      ]
     },
     "execution_count": 13,
     "metadata": {},
     "output_type": "execute_result"
    }
   ],
   "source": [
    "len(mask_path_subset), len(mask_path)"
   ]
  },
  {
   "cell_type": "code",
   "execution_count": 20,
   "metadata": {},
   "outputs": [],
   "source": [
    "dataset = tf.data.Dataset.from_tensor_slices((image_path_subset, mask_path_subset))\n",
    "dataset = dataset.map(load_and_preprocess_data, num_parallel_calls=tf.data.AUTOTUNE)"
   ]
  },
  {
   "cell_type": "code",
   "execution_count": 21,
   "metadata": {},
   "outputs": [
    {
     "data": {
      "text/plain": [
       "56250"
      ]
     },
     "execution_count": 21,
     "metadata": {},
     "output_type": "execute_result"
    }
   ],
   "source": [
    "len(dataset)"
   ]
  },
  {
   "cell_type": "code",
   "execution_count": 59,
   "metadata": {},
   "outputs": [],
   "source": [
    "def create_datasets(save_path, set=\"train\", test_size=.1, batch_size=64, data_size=1, val_size=.3):\n",
    "    if set == \"predict\":\n",
    "        image_dir = save_path\n",
    "    else:\n",
    "        image_dir = f'{save_path}/{set}/images'\n",
    "    mask_dir = f'{save_path}/{set}/gt' if set == \"train\" else None\n",
    "\n",
    "    image_path = [os.path.join(image_dir, filename) for filename in os.listdir(image_dir)]\n",
    "    mask_path = [os.path.join(mask_dir, filename) for filename in os.listdir(mask_dir)] if mask_dir else None\n",
    "    \n",
    "    if set in [\"predict\", \"test\"] :\n",
    "        dataset = tf.data.Dataset.from_tensor_slices(image_path)\n",
    "        dataset = dataset.map(load_and_preprocess_data, num_parallel_calls=tf.data.AUTOTUNE)\n",
    "        \n",
    "        predict_batches = dataset.batch(batch_size).prefetch(buffer_size=tf.data.AUTOTUNE)\n",
    "\n",
    "        pics_test = len(dataset)\n",
    "        print(f\"✅ Predict_batches with {pics_test} images ({len(predict_batches)} batches) created\")\n",
    "\n",
    "        return predict_batches\n",
    "        \n",
    "    else:\n",
    "        #test split\n",
    "        image_path_rest, image_path_test, mask_path_rest, mask_path_test = train_test_split(image_path, mask_path, test_size=test_size, random_state=42) if test_size != 0 else (None, None, None, None)\n",
    "        \n",
    "        #data size split\n",
    "        if test_size == 0:\n",
    "            image_path_rest = image_path\n",
    "            mask_path_rest = mask_path\n",
    "        image_path_subset, _, mask_path_subset, _ = train_test_split(image_path_rest, mask_path_rest, train_size=data_size) if data_size != 1 else (None, None, None, None)\n",
    "        \n",
    "        #train val split\n",
    "        if data_size == 1:\n",
    "            image_path_subset = image_path_rest\n",
    "            mask_path_subset = mask_path_rest\n",
    "        image_path_train, image_path_val, mask_path_train, mask_path_val = train_test_split(image_path_subset, mask_path_subset, train_size=val_size)\n",
    "        \n",
    "        train_dataset = tf.data.Dataset.from_tensor_slices((image_path_train, mask_path_train))\n",
    "        train_dataset = train_dataset.map(load_and_preprocess_data, num_parallel_calls=tf.data.AUTOTUNE)\n",
    "        train_batches = train_dataset.batch(batch_size).prefetch(buffer_size=tf.data.AUTOTUNE)\n",
    "        \n",
    "        val_dataset = tf.data.Dataset.from_tensor_slices((image_path_val, mask_path_val))\n",
    "        val_dataset = val_dataset.map(load_and_preprocess_data, num_parallel_calls=tf.data.AUTOTUNE)\n",
    "        val_batches = val_dataset.batch(batch_size).prefetch(buffer_size=tf.data.AUTOTUNE)\n",
    "        \n",
    "        test_dataset = tf.data.Dataset.from_tensor_slices((image_path_test, mask_path_test)) if test_size != 0 else None \n",
    "        test_dataset = test_dataset.map(load_and_preprocess_data, num_parallel_calls=tf.data.AUTOTUNE) if test_size != 0 else None \n",
    "        test_batches = test_dataset.batch(batch_size).prefetch(buffer_size=tf.data.AUTOTUNE) if test_size != 0 else None \n",
    "        \n",
    "        pics_train = len(train_dataset)\n",
    "        pics_val = len(val_dataset)\n",
    "        pics_test = len(test_dataset) if test_size != 0 else None \n",
    "        \n",
    "        print(f\"✅ Test_batches with {pics_test} images ({len(test_batches)} batches) created\") if test_size != 0 else None \n",
    "        print(f\"✅ Train_batches with {pics_train} images ({len(train_batches)} batches) created\")\n",
    "        print(f\"✅ Val_batches with {pics_val} images ({len(val_batches)} batches) created\")\n",
    "        \n",
    "        if test_size != 0:\n",
    "            return test_batches, train_batches, val_batches \n",
    "        else:\n",
    "            return train_batches, val_batches\n",
    "    "
   ]
  },
  {
   "cell_type": "code",
   "execution_count": 61,
   "metadata": {},
   "outputs": [
    {
     "name": "stdout",
     "output_type": "stream",
     "text": [
      "✅ Train_batches with 33750 images (528 batches) created\n",
      "✅ Val_batches with 78750 images (1231 batches) created\n"
     ]
    },
    {
     "data": {
      "text/plain": [
       "(<_PrefetchDataset element_spec=(TensorSpec(shape=(None, None, None, 3), dtype=tf.float32, name=None), TensorSpec(shape=(None, None, None, 1), dtype=tf.float32, name=None))>,\n",
       " <_PrefetchDataset element_spec=(TensorSpec(shape=(None, None, None, 3), dtype=tf.float32, name=None), TensorSpec(shape=(None, None, None, 1), dtype=tf.float32, name=None))>)"
      ]
     },
     "execution_count": 61,
     "metadata": {},
     "output_type": "execute_result"
    }
   ],
   "source": [
    "save_path= \"/Users/bastianberger/code/bergerbastian/inria1358/raw_data/patches\"\n",
    "test_size = 0\n",
    "set =\"train\"\n",
    "data_size=1\n",
    "val_size= .3\n",
    "batch_size=64\n",
    "\n",
    "create_datasets(save_path=save_path, set=set, data_size=1.0, val_size=val_size, batch_size=batch_size, test_size=test_size)"
   ]
  }
 ],
 "metadata": {
  "kernelspec": {
   "display_name": "inria1358",
   "language": "python",
   "name": "python3"
  },
  "language_info": {
   "codemirror_mode": {
    "name": "ipython",
    "version": 3
   },
   "file_extension": ".py",
   "mimetype": "text/x-python",
   "name": "python",
   "nbconvert_exporter": "python",
   "pygments_lexer": "ipython3",
   "version": "3.10.6"
  },
  "orig_nbformat": 4
 },
 "nbformat": 4,
 "nbformat_minor": 2
}
