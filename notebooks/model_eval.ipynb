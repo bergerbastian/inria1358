{
 "cells": [
  {
   "cell_type": "code",
   "execution_count": 5,
   "metadata": {},
   "outputs": [
    {
     "name": "stdout",
     "output_type": "stream",
     "text": [
      "✅ Test_batches with 11250 images (704 batches) created\n",
      "✅ Train_batches with 1518 images (95 batches) created\n",
      "✅ Val_batches with 3544 images (222 batches) created\n"
     ]
    }
   ],
   "source": [
    "%load_ext autoreload\n",
    "%autoreload 2\n",
    "\n",
    "import sys\n",
    "import os\n",
    "\n",
    "# Get the parent directory of the current file.\n",
    "parent_dir = os.path.abspath(os.path.join(os.getcwd(), os.pardir))\n",
    "# Add the parent directory to the Python path.\n",
    "sys.path.append(parent_dir)\n",
    "\n",
    "from ML.preprocessing import create_datasets\n",
    "from ML.model import make_model\n",
    "\n",
    "test_batches, train_batches, val_batches = create_datasets(\"/home/arbersejdiji/inria1358/patches/\", \n",
    "                                                           batch_size=16, \n",
    "                                                           data_size=0.05)"
   ]
  },
  {
   "cell_type": "code",
   "execution_count": 6,
   "metadata": {},
   "outputs": [
    {
     "name": "stdout",
     "output_type": "stream",
     "text": [
      "✅ TernausNet initialized\n",
      "✅ Model compiled\n",
      "Epoch 1/2\n",
      "95/95 [==============================] - 1336s 14s/step - loss: 0.4524 - accuracy: 0.8253 - mean_io_u: 0.4196 - val_loss: 0.3836 - val_accuracy: 0.8431 - val_mean_io_u: 0.4190\n",
      "Epoch 2/2\n",
      "95/95 [==============================] - 1243s 13s/step - loss: 0.3398 - accuracy: 0.8486 - mean_io_u: 0.4196 - val_loss: 0.3741 - val_accuracy: 0.8382 - val_mean_io_u: 0.4190\n",
      "✅ Model trained on 95 batches over 2 epochs.\n",
      "✅ SEGNET Model initialized\n",
      "✅ Model compiled\n",
      "Epoch 1/2\n",
      "95/95 [==============================] - 853s 9s/step - loss: 0.3319 - accuracy: 0.8640 - mean_io_u_1: 0.4196 - val_loss: 0.4104 - val_accuracy: 0.8380 - val_mean_io_u_1: 0.4190\n",
      "Epoch 2/2\n",
      "95/95 [==============================] - 835s 9s/step - loss: 0.2972 - accuracy: 0.8777 - mean_io_u_1: 0.4196 - val_loss: 0.4778 - val_accuracy: 0.8380 - val_mean_io_u_1: 0.4190\n",
      "✅ Model trained on 95 batches over 2 epochs.\n"
     ]
    }
   ],
   "source": [
    "#binary cross_entropy\n",
    "model_ter, history_ter = make_model(train_batches, \n",
    "           val_batches,\n",
    "           (200,200,3), \n",
    "           model_name='ternausnet')\n",
    "\n",
    "model_seg, history_seg = make_model(train_batches, \n",
    "           val_batches,\n",
    "           (200,200,3), \n",
    "           model_name='segnet')"
   ]
  },
  {
   "cell_type": "code",
   "execution_count": 9,
   "metadata": {},
   "outputs": [],
   "source": [
    "import tensorflow as tf\n",
    "\n",
    "class DiceLoss(tf.keras.losses.Loss):\n",
    "    def __init__(self, smooth=1e-6, gama=2):\n",
    "        super(DiceLoss, self).__init__()\n",
    "        self.name = 'NDL'\n",
    "        self.smooth = smooth\n",
    "        self.gama = gama\n",
    "\n",
    "    def call(self, y_true, y_pred):\n",
    "        y_true, y_pred = tf.cast(\n",
    "            y_true, dtype=tf.float32), tf.cast(y_pred, tf.float32)\n",
    "        nominator = 2 * \\\n",
    "            tf.reduce_sum(tf.multiply(y_pred, y_true)) + self.smooth\n",
    "        denominator = tf.reduce_sum(\n",
    "            y_pred ** self.gama) + tf.reduce_sum(y_true ** self.gama) + self.smooth\n",
    "        result = 1 - tf.divide(nominator, denominator)\n",
    "        return result\n",
    "\n",
    "loss_function = DiceLoss(smooth=1e-6, gama=2)"
   ]
  },
  {
   "cell_type": "code",
   "execution_count": 11,
   "metadata": {},
   "outputs": [
    {
     "name": "stdout",
     "output_type": "stream",
     "text": [
      "✅ TernausNet initialized\n",
      "✅ Model compiled\n",
      "Epoch 1/2\n",
      "95/95 [==============================] - 1143s 12s/step - loss: 0.4854 - accuracy: 0.7410 - mean_io_u_4: 0.4208 - val_loss: 0.3729 - val_accuracy: 0.8541 - val_mean_io_u_4: 0.4190\n",
      "Epoch 2/2\n",
      "95/95 [==============================] - 1155s 12s/step - loss: 0.3492 - accuracy: 0.8630 - mean_io_u_4: 0.4202 - val_loss: 0.3244 - val_accuracy: 0.8467 - val_mean_io_u_4: 0.4284\n",
      "✅ Model trained on 95 batches over 2 epochs.\n",
      "✅ SEGNET Model initialized\n",
      "✅ Model compiled\n",
      "Epoch 1/2\n",
      "95/95 [==============================] - 779s 8s/step - loss: 0.3996 - accuracy: 0.8372 - mean_io_u_5: 0.4770 - val_loss: 0.8035 - val_accuracy: 0.8380 - val_mean_io_u_5: 0.4190\n",
      "Epoch 2/2\n",
      "95/95 [==============================] - 778s 8s/step - loss: 0.3431 - accuracy: 0.8716 - mean_io_u_5: 0.4756 - val_loss: 0.7988 - val_accuracy: 0.8380 - val_mean_io_u_5: 0.4190\n",
      "✅ Model trained on 95 batches over 2 epochs.\n"
     ]
    }
   ],
   "source": [
    "#Dice Loss\n",
    "model_dt, history_dt = make_model(train_batches, \n",
    "           val_batches,\n",
    "           (200,200,3), \n",
    "           model_name='ternausnet',\n",
    "           loss=loss_function)\n",
    "\n",
    "model_ds, history_ds = make_model(train_batches, \n",
    "           val_batches,\n",
    "           (200,200,3), \n",
    "           model_name='segnet',\n",
    "           loss=loss_function)"
   ]
  },
  {
   "cell_type": "code",
   "execution_count": null,
   "metadata": {},
   "outputs": [],
   "source": [
    "model_ds.predict()"
   ]
  },
  {
   "cell_type": "code",
   "execution_count": null,
   "metadata": {},
   "outputs": [],
   "source": []
  },
  {
   "cell_type": "code",
   "execution_count": null,
   "metadata": {},
   "outputs": [],
   "source": []
  }
 ],
 "metadata": {
  "kernelspec": {
   "display_name": "inria1358",
   "language": "python",
   "name": "python3"
  },
  "language_info": {
   "codemirror_mode": {
    "name": "ipython",
    "version": 3
   },
   "file_extension": ".py",
   "mimetype": "text/x-python",
   "name": "python",
   "nbconvert_exporter": "python",
   "pygments_lexer": "ipython3",
   "version": "3.10.6"
  },
  "orig_nbformat": 4
 },
 "nbformat": 4,
 "nbformat_minor": 2
}
