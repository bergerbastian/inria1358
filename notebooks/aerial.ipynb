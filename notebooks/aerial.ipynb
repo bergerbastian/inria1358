{
  "nbformat": 4,
  "nbformat_minor": 0,
  "metadata": {
    "colab": {
      "provenance": [],
      "authorship_tag": "ABX9TyPf3UVk7TNFGdDtZRiNaKak",
      "include_colab_link": true
    },
    "kernelspec": {
      "name": "python3",
      "display_name": "Python 3"
    },
    "language_info": {
      "name": "python"
    }
  },
  "cells": [
    {
      "cell_type": "markdown",
      "metadata": {
        "id": "view-in-github",
        "colab_type": "text"
      },
      "source": [
        "<a href=\"https://colab.research.google.com/github/bergerbastian/inria1358/blob/master/notebooks/aerial.ipynb\" target=\"_parent\"><img src=\"https://colab.research.google.com/assets/colab-badge.svg\" alt=\"Open In Colab\"/></a>"
      ]
    },
    {
      "cell_type": "code",
      "source": [
        "import os\n",
        "import tempfile\n",
        "\n",
        "from google.cloud import storage\n",
        "\n",
        "import cv2\n",
        "\n",
        "from PIL import Image\n",
        "import pandas as pd\n",
        "\n",
        "import tensorflow as tf"
      ],
      "metadata": {
        "id": "NQPAUtVw5jQD"
      },
      "execution_count": 1,
      "outputs": []
    },
    {
      "cell_type": "markdown",
      "source": [
        "# Setting Up"
      ],
      "metadata": {
        "id": "xw_VHdmtIIO_"
      }
    },
    {
      "cell_type": "markdown",
      "source": [
        "## Colab Sign In\n"
      ],
      "metadata": {
        "id": "-sTAIoKAIMhP"
      }
    },
    {
      "cell_type": "code",
      "source": [
        "from google.colab import auth\n",
        "auth.authenticate_user()"
      ],
      "metadata": {
        "id": "KoHU3Xoy5jjm"
      },
      "execution_count": 2,
      "outputs": []
    },
    {
      "cell_type": "code",
      "source": [
        "client = storage.Client()"
      ],
      "metadata": {
        "id": "TgACmmec7j56"
      },
      "execution_count": 3,
      "outputs": []
    },
    {
      "cell_type": "code",
      "source": [
        "bucket = client.get_bucket('aerial_images_inria1358')\n",
        "storage_client = storage.Client()"
      ],
      "metadata": {
        "id": "R6_0EME47z0d"
      },
      "execution_count": 4,
      "outputs": []
    },
    {
      "cell_type": "markdown",
      "source": [
        "## Functions"
      ],
      "metadata": {
        "id": "HOzltd2GIRca"
      }
    },
    {
      "cell_type": "code",
      "source": [
        "def printif(condition, string):\n",
        "    \"\"\"Prints string if condition is met\n",
        "\n",
        "    Args:\n",
        "        condition: boolean value\n",
        "        string: string to print\n",
        "    \"\"\"\n",
        "    if condition:\n",
        "      print(string)"
      ],
      "metadata": {
        "id": "ceM46w3eCzPr"
      },
      "execution_count": 5,
      "outputs": []
    },
    {
      "cell_type": "code",
      "source": [
        "def get_blobs(bucket_name, folder=\"\") -> list[storage.blob]:\n",
        "    \"\"\"Returns lists of all blobs in bucket / folder of that bucket\n",
        "\n",
        "    Args:\n",
        "        bucket_name: Name of cloud storage bucket\n",
        "        folder: Name of folder in that bucket that we want to look in\n",
        "    \"\"\"\n",
        "\n",
        "    storage_client = storage.Client()\n",
        "\n",
        "    return list(storage_client.list_blobs(bucket_name, prefix=folder))"
      ],
      "metadata": {
        "id": "CAj3Qija76kL"
      },
      "execution_count": 6,
      "outputs": []
    },
    {
      "cell_type": "code",
      "source": [
        "def get_size_of_image(current_blob, verbose=False) -> tuple:\n",
        "    \"\"\"Returns image dimensions (height, width, channels)\n",
        "\n",
        "    Args:\n",
        "        current_blob: a Cloud Storage blob\n",
        "        verbose: Whether or not to log\n",
        "    \"\"\"\n",
        "    file_name = current_blob.name\n",
        "    _, temp_local_filename = tempfile.mkstemp()\n",
        "\n",
        "    # Download file from bucket.\n",
        "    current_blob.download_to_filename(temp_local_filename)\n",
        "    printif(verbose, f\"Image {file_name} was downloaded to {temp_local_filename}.\")\n",
        "\n",
        "    # Read Image Shape\n",
        "    try:\n",
        "      img = cv2.imread(temp_local_filename)\n",
        "      printif(verbose, f\"Image {file_name} was opened with dimensions: {img.shape}\")\n",
        "      return img.shape\n",
        "    except:\n",
        "      print(\"An error occured.\")\n",
        "      return None\n"
      ],
      "metadata": {
        "id": "2Q86MZvDAWX-"
      },
      "execution_count": 7,
      "outputs": []
    },
    {
      "cell_type": "code",
      "source": [
        "def convert_image(current_blob, verbose=False):\n",
        "    \"\"\"Converts images to JPG\n",
        "\n",
        "    Args:\n",
        "        current_blob: a Cloud Storage blob\n",
        "        verbose: Whether or not to log\n",
        "    \"\"\"\n",
        "    file_name = current_blob.name\n",
        "    _, temp_local_filename = tempfile.mkstemp()\n",
        "\n",
        "    # Download file from bucket.\n",
        "    current_blob.download_to_filename(temp_local_filename)\n",
        "    printif(verbose, f\"Image {file_name} was downloaded to {temp_local_filename}.\")\n",
        "    # Convert Image\n",
        "    try:\n",
        "      # Open Image\n",
        "      img = Image.open(temp_local_filename)\n",
        "      printif(verbose, f\"Generating jpeg for {temp_local_filename}\")\n",
        "\n",
        "      # Save image as JPG\n",
        "      img.save(temp_local_filename, \"JPEG\", quality=100)\n",
        "\n",
        "      # Upload image to gcloud\n",
        "      bucket = storage_client.bucket('aerial_images_inria1358')\n",
        "      new_blob = bucket.blob(\"Converted_\"+file_name.replace(\"tif\", \"jpg\"))\n",
        "      new_blob.upload_from_filename(temp_local_filename)\n",
        "\n",
        "      # Delete the temporary file.\n",
        "      os.remove(temp_local_filename)\n",
        "    except:\n",
        "      print(\"An error occured.\")\n",
        "      return None"
      ],
      "metadata": {
        "id": "KeK7SA1SJ_7d"
      },
      "execution_count": 8,
      "outputs": []
    },
    {
      "cell_type": "code",
      "source": [
        "def download_images(onlyTrain=True, verbose=False, processed=True):\n",
        "  \"\"\"Downloads images from google cloud bucket\n",
        "\n",
        "    Args:\n",
        "        onlyTrain: Download only train images\n",
        "        verbose: Whether or not to log\n",
        "        processed: Download processed images\n",
        "  \"\"\"\n",
        "  bucket = client.get_bucket('aerial_images_inria1358')\n",
        "  storage_client = storage.Client()\n",
        "\n",
        "  addConverted = \"Converted_\" if processed else \"\"\n",
        "\n",
        "  if onlyTrain:\n",
        "    blobs = get_blobs('aerial_images_inria1358', folder=f'{addConverted}AerialImageDataset/train/')\n",
        "  else:\n",
        "    blobs = get_blobs('aerial_images_inria1358', folder=f'{addConverted}AerialImageDataset/')\n",
        "\n",
        "  for blob in blobs:\n",
        "    # Download file from bucket.\n",
        "\n",
        "    path = \"/\".join(blob.name.split(\"/\")[0:-1])\n",
        "    # Check whether the specified path exists or not\n",
        "    isExist = os.path.exists(path)\n",
        "    if not isExist:\n",
        "      # Create a new directory because it does not exist\n",
        "      os.makedirs(path)\n",
        "\n",
        "    f = open(blob.name, \"w\")\n",
        "    blob.download_to_filename(blob.name)\n",
        "    printif(verbose, f\"Image {blob.name} was downloaded to {blob.name}.\")\n",
        "    break"
      ],
      "metadata": {
        "id": "NPyG0k7cWrKp"
      },
      "execution_count": 37,
      "outputs": []
    },
    {
      "cell_type": "markdown",
      "source": [
        "# Analysis of Dimensions"
      ],
      "metadata": {
        "id": "bcbg363KIZXv"
      }
    },
    {
      "cell_type": "code",
      "source": [
        "blobs = get_blobs('aerial_images_inria1358', folder='AerialImageDataset/train/')"
      ],
      "metadata": {
        "id": "SfjlENUUDKmY"
      },
      "execution_count": 49,
      "outputs": []
    },
    {
      "cell_type": "code",
      "source": [
        "# This downloads the whole dataset (temporarily), taking ~12 min\n",
        "#dimensions = [get_size_of_image(blob) for blob in blobs]"
      ],
      "metadata": {
        "id": "qqs01n8QB6zV"
      },
      "execution_count": 50,
      "outputs": []
    },
    {
      "cell_type": "code",
      "source": [
        "heights = [dim[0] for dim in dimensions]\n",
        "widths = [dim[1] for dim in dimensions]\n",
        "channels = [dim[2] for dim in dimensions]\n",
        "\n",
        "dimensions_data = pd.DataFrame.from_dict({\"heights\":heights, \"widths\":widths, \"channels\":channels})"
      ],
      "metadata": {
        "id": "ctXCu5ikGpT_"
      },
      "execution_count": 58,
      "outputs": []
    },
    {
      "cell_type": "code",
      "source": [
        "dimensions_data.describe()"
      ],
      "metadata": {
        "colab": {
          "base_uri": "https://localhost:8080/",
          "height": 297
        },
        "id": "akd_w5FSHR-L",
        "outputId": "3c9422f2-07a0-40d2-ba73-03a940e18bca"
      },
      "execution_count": 61,
      "outputs": [
        {
          "output_type": "execute_result",
          "data": {
            "text/plain": [
              "       heights  widths  channels\n",
              "count    360.0   360.0     360.0\n",
              "mean    5000.0  5000.0       3.0\n",
              "std        0.0     0.0       0.0\n",
              "min     5000.0  5000.0       3.0\n",
              "25%     5000.0  5000.0       3.0\n",
              "50%     5000.0  5000.0       3.0\n",
              "75%     5000.0  5000.0       3.0\n",
              "max     5000.0  5000.0       3.0"
            ],
            "text/html": [
              "\n",
              "  <div id=\"df-c5534098-9e1a-4677-b0cc-82dc045929c9\" class=\"colab-df-container\">\n",
              "    <div>\n",
              "<style scoped>\n",
              "    .dataframe tbody tr th:only-of-type {\n",
              "        vertical-align: middle;\n",
              "    }\n",
              "\n",
              "    .dataframe tbody tr th {\n",
              "        vertical-align: top;\n",
              "    }\n",
              "\n",
              "    .dataframe thead th {\n",
              "        text-align: right;\n",
              "    }\n",
              "</style>\n",
              "<table border=\"1\" class=\"dataframe\">\n",
              "  <thead>\n",
              "    <tr style=\"text-align: right;\">\n",
              "      <th></th>\n",
              "      <th>heights</th>\n",
              "      <th>widths</th>\n",
              "      <th>channels</th>\n",
              "    </tr>\n",
              "  </thead>\n",
              "  <tbody>\n",
              "    <tr>\n",
              "      <th>count</th>\n",
              "      <td>360.0</td>\n",
              "      <td>360.0</td>\n",
              "      <td>360.0</td>\n",
              "    </tr>\n",
              "    <tr>\n",
              "      <th>mean</th>\n",
              "      <td>5000.0</td>\n",
              "      <td>5000.0</td>\n",
              "      <td>3.0</td>\n",
              "    </tr>\n",
              "    <tr>\n",
              "      <th>std</th>\n",
              "      <td>0.0</td>\n",
              "      <td>0.0</td>\n",
              "      <td>0.0</td>\n",
              "    </tr>\n",
              "    <tr>\n",
              "      <th>min</th>\n",
              "      <td>5000.0</td>\n",
              "      <td>5000.0</td>\n",
              "      <td>3.0</td>\n",
              "    </tr>\n",
              "    <tr>\n",
              "      <th>25%</th>\n",
              "      <td>5000.0</td>\n",
              "      <td>5000.0</td>\n",
              "      <td>3.0</td>\n",
              "    </tr>\n",
              "    <tr>\n",
              "      <th>50%</th>\n",
              "      <td>5000.0</td>\n",
              "      <td>5000.0</td>\n",
              "      <td>3.0</td>\n",
              "    </tr>\n",
              "    <tr>\n",
              "      <th>75%</th>\n",
              "      <td>5000.0</td>\n",
              "      <td>5000.0</td>\n",
              "      <td>3.0</td>\n",
              "    </tr>\n",
              "    <tr>\n",
              "      <th>max</th>\n",
              "      <td>5000.0</td>\n",
              "      <td>5000.0</td>\n",
              "      <td>3.0</td>\n",
              "    </tr>\n",
              "  </tbody>\n",
              "</table>\n",
              "</div>\n",
              "    <div class=\"colab-df-buttons\">\n",
              "\n",
              "  <div class=\"colab-df-container\">\n",
              "    <button class=\"colab-df-convert\" onclick=\"convertToInteractive('df-c5534098-9e1a-4677-b0cc-82dc045929c9')\"\n",
              "            title=\"Convert this dataframe to an interactive table.\"\n",
              "            style=\"display:none;\">\n",
              "\n",
              "  <svg xmlns=\"http://www.w3.org/2000/svg\" height=\"24px\" viewBox=\"0 -960 960 960\">\n",
              "    <path d=\"M120-120v-720h720v720H120Zm60-500h600v-160H180v160Zm220 220h160v-160H400v160Zm0 220h160v-160H400v160ZM180-400h160v-160H180v160Zm440 0h160v-160H620v160ZM180-180h160v-160H180v160Zm440 0h160v-160H620v160Z\"/>\n",
              "  </svg>\n",
              "    </button>\n",
              "\n",
              "  <style>\n",
              "    .colab-df-container {\n",
              "      display:flex;\n",
              "      gap: 12px;\n",
              "    }\n",
              "\n",
              "    .colab-df-convert {\n",
              "      background-color: #E8F0FE;\n",
              "      border: none;\n",
              "      border-radius: 50%;\n",
              "      cursor: pointer;\n",
              "      display: none;\n",
              "      fill: #1967D2;\n",
              "      height: 32px;\n",
              "      padding: 0 0 0 0;\n",
              "      width: 32px;\n",
              "    }\n",
              "\n",
              "    .colab-df-convert:hover {\n",
              "      background-color: #E2EBFA;\n",
              "      box-shadow: 0px 1px 2px rgba(60, 64, 67, 0.3), 0px 1px 3px 1px rgba(60, 64, 67, 0.15);\n",
              "      fill: #174EA6;\n",
              "    }\n",
              "\n",
              "    .colab-df-buttons div {\n",
              "      margin-bottom: 4px;\n",
              "    }\n",
              "\n",
              "    [theme=dark] .colab-df-convert {\n",
              "      background-color: #3B4455;\n",
              "      fill: #D2E3FC;\n",
              "    }\n",
              "\n",
              "    [theme=dark] .colab-df-convert:hover {\n",
              "      background-color: #434B5C;\n",
              "      box-shadow: 0px 1px 3px 1px rgba(0, 0, 0, 0.15);\n",
              "      filter: drop-shadow(0px 1px 2px rgba(0, 0, 0, 0.3));\n",
              "      fill: #FFFFFF;\n",
              "    }\n",
              "  </style>\n",
              "\n",
              "    <script>\n",
              "      const buttonEl =\n",
              "        document.querySelector('#df-c5534098-9e1a-4677-b0cc-82dc045929c9 button.colab-df-convert');\n",
              "      buttonEl.style.display =\n",
              "        google.colab.kernel.accessAllowed ? 'block' : 'none';\n",
              "\n",
              "      async function convertToInteractive(key) {\n",
              "        const element = document.querySelector('#df-c5534098-9e1a-4677-b0cc-82dc045929c9');\n",
              "        const dataTable =\n",
              "          await google.colab.kernel.invokeFunction('convertToInteractive',\n",
              "                                                    [key], {});\n",
              "        if (!dataTable) return;\n",
              "\n",
              "        const docLinkHtml = 'Like what you see? Visit the ' +\n",
              "          '<a target=\"_blank\" href=https://colab.research.google.com/notebooks/data_table.ipynb>data table notebook</a>'\n",
              "          + ' to learn more about interactive tables.';\n",
              "        element.innerHTML = '';\n",
              "        dataTable['output_type'] = 'display_data';\n",
              "        await google.colab.output.renderOutput(dataTable, element);\n",
              "        const docLink = document.createElement('div');\n",
              "        docLink.innerHTML = docLinkHtml;\n",
              "        element.appendChild(docLink);\n",
              "      }\n",
              "    </script>\n",
              "  </div>\n",
              "\n",
              "\n",
              "<div id=\"df-b4d14c74-3613-42ea-9073-45a4746d0957\">\n",
              "  <button class=\"colab-df-quickchart\" onclick=\"quickchart('df-b4d14c74-3613-42ea-9073-45a4746d0957')\"\n",
              "            title=\"Suggest charts.\"\n",
              "            style=\"display:none;\">\n",
              "\n",
              "<svg xmlns=\"http://www.w3.org/2000/svg\" height=\"24px\"viewBox=\"0 0 24 24\"\n",
              "     width=\"24px\">\n",
              "    <g>\n",
              "        <path d=\"M19 3H5c-1.1 0-2 .9-2 2v14c0 1.1.9 2 2 2h14c1.1 0 2-.9 2-2V5c0-1.1-.9-2-2-2zM9 17H7v-7h2v7zm4 0h-2V7h2v10zm4 0h-2v-4h2v4z\"/>\n",
              "    </g>\n",
              "</svg>\n",
              "  </button>\n",
              "\n",
              "<style>\n",
              "  .colab-df-quickchart {\n",
              "      --bg-color: #E8F0FE;\n",
              "      --fill-color: #1967D2;\n",
              "      --hover-bg-color: #E2EBFA;\n",
              "      --hover-fill-color: #174EA6;\n",
              "      --disabled-fill-color: #AAA;\n",
              "      --disabled-bg-color: #DDD;\n",
              "  }\n",
              "\n",
              "  [theme=dark] .colab-df-quickchart {\n",
              "      --bg-color: #3B4455;\n",
              "      --fill-color: #D2E3FC;\n",
              "      --hover-bg-color: #434B5C;\n",
              "      --hover-fill-color: #FFFFFF;\n",
              "      --disabled-bg-color: #3B4455;\n",
              "      --disabled-fill-color: #666;\n",
              "  }\n",
              "\n",
              "  .colab-df-quickchart {\n",
              "    background-color: var(--bg-color);\n",
              "    border: none;\n",
              "    border-radius: 50%;\n",
              "    cursor: pointer;\n",
              "    display: none;\n",
              "    fill: var(--fill-color);\n",
              "    height: 32px;\n",
              "    padding: 0;\n",
              "    width: 32px;\n",
              "  }\n",
              "\n",
              "  .colab-df-quickchart:hover {\n",
              "    background-color: var(--hover-bg-color);\n",
              "    box-shadow: 0 1px 2px rgba(60, 64, 67, 0.3), 0 1px 3px 1px rgba(60, 64, 67, 0.15);\n",
              "    fill: var(--button-hover-fill-color);\n",
              "  }\n",
              "\n",
              "  .colab-df-quickchart-complete:disabled,\n",
              "  .colab-df-quickchart-complete:disabled:hover {\n",
              "    background-color: var(--disabled-bg-color);\n",
              "    fill: var(--disabled-fill-color);\n",
              "    box-shadow: none;\n",
              "  }\n",
              "\n",
              "  .colab-df-spinner {\n",
              "    border: 2px solid var(--fill-color);\n",
              "    border-color: transparent;\n",
              "    border-bottom-color: var(--fill-color);\n",
              "    animation:\n",
              "      spin 1s steps(1) infinite;\n",
              "  }\n",
              "\n",
              "  @keyframes spin {\n",
              "    0% {\n",
              "      border-color: transparent;\n",
              "      border-bottom-color: var(--fill-color);\n",
              "      border-left-color: var(--fill-color);\n",
              "    }\n",
              "    20% {\n",
              "      border-color: transparent;\n",
              "      border-left-color: var(--fill-color);\n",
              "      border-top-color: var(--fill-color);\n",
              "    }\n",
              "    30% {\n",
              "      border-color: transparent;\n",
              "      border-left-color: var(--fill-color);\n",
              "      border-top-color: var(--fill-color);\n",
              "      border-right-color: var(--fill-color);\n",
              "    }\n",
              "    40% {\n",
              "      border-color: transparent;\n",
              "      border-right-color: var(--fill-color);\n",
              "      border-top-color: var(--fill-color);\n",
              "    }\n",
              "    60% {\n",
              "      border-color: transparent;\n",
              "      border-right-color: var(--fill-color);\n",
              "    }\n",
              "    80% {\n",
              "      border-color: transparent;\n",
              "      border-right-color: var(--fill-color);\n",
              "      border-bottom-color: var(--fill-color);\n",
              "    }\n",
              "    90% {\n",
              "      border-color: transparent;\n",
              "      border-bottom-color: var(--fill-color);\n",
              "    }\n",
              "  }\n",
              "</style>\n",
              "\n",
              "  <script>\n",
              "    async function quickchart(key) {\n",
              "      const quickchartButtonEl =\n",
              "        document.querySelector('#' + key + ' button');\n",
              "      quickchartButtonEl.disabled = true;  // To prevent multiple clicks.\n",
              "      quickchartButtonEl.classList.add('colab-df-spinner');\n",
              "      try {\n",
              "        const charts = await google.colab.kernel.invokeFunction(\n",
              "            'suggestCharts', [key], {});\n",
              "      } catch (error) {\n",
              "        console.error('Error during call to suggestCharts:', error);\n",
              "      }\n",
              "      quickchartButtonEl.classList.remove('colab-df-spinner');\n",
              "      quickchartButtonEl.classList.add('colab-df-quickchart-complete');\n",
              "    }\n",
              "    (() => {\n",
              "      let quickchartButtonEl =\n",
              "        document.querySelector('#df-b4d14c74-3613-42ea-9073-45a4746d0957 button');\n",
              "      quickchartButtonEl.style.display =\n",
              "        google.colab.kernel.accessAllowed ? 'block' : 'none';\n",
              "    })();\n",
              "  </script>\n",
              "</div>\n",
              "    </div>\n",
              "  </div>\n"
            ]
          },
          "metadata": {},
          "execution_count": 61
        }
      ]
    },
    {
      "cell_type": "markdown",
      "source": [
        "# Convert Images to JPG"
      ],
      "metadata": {
        "id": "YxWeB62DMxOW"
      }
    },
    {
      "cell_type": "code",
      "source": [
        "# Warning! This takes a while and converts all images in train to JPG\n",
        "#blobs = get_blobs('aerial_images_inria1358', folder='AerialImageDataset/train/')\n",
        "#for blob in blobs:\n",
        "#  convert_image(blob)"
      ],
      "metadata": {
        "id": "tkEOll0BKkb6"
      },
      "execution_count": 9,
      "outputs": []
    },
    {
      "cell_type": "code",
      "source": [],
      "metadata": {
        "id": "-QNYniVqK_Cl"
      },
      "execution_count": null,
      "outputs": []
    },
    {
      "cell_type": "markdown",
      "source": [
        "# Tensorflow"
      ],
      "metadata": {
        "id": "Cw2ryWCFTBD6"
      }
    },
    {
      "cell_type": "code",
      "source": [
        "download_processed_images()"
      ],
      "metadata": {
        "id": "pUnLs_N7Xo4I"
      },
      "execution_count": 35,
      "outputs": []
    },
    {
      "cell_type": "code",
      "source": [
        "†pythodef normalize(input_image, input_mask):\n",
        "  input_image = tf.cast(input_image, tf.float32) / 255.0\n",
        "  input_mask -= 1\n",
        "  return input_image, input_mask\n",
        "\n",
        "def load_image(datapoint):\n",
        "  input_image = tf.image.resize(datapoint['image'], (128, 128))\n",
        "  input_mask = tf.image.resize(\n",
        "    datapoint['segmentation_mask'],\n",
        "    (128, 128),\n",
        "    method = tf.image.ResizeMethod.NEAREST_NEIGHBOR,\n",
        "  )\n",
        "\n",
        "  input_image, input_mask = normalize(input_image, input_mask)\n",
        "\n",
        "  return input_image, input_mask\n",
        "\n",
        "class Augment(tf.keras.layers.Layer):\n",
        "  def __init__(self, seed=42):\n",
        "    super().__init__()\n",
        "    # both use the same seed, so they'll make the same random changes.\n",
        "    self.augment_inputs = tf.keras.layers.RandomFlip(mode=\"horizontal\", seed=seed)\n",
        "    self.augment_labels = tf.keras.layers.RandomFlip(mode=\"horizontal\", seed=seed)\n",
        "\n",
        "  def call(self, inputs, labels):\n",
        "    inputs = self.augment_inputs(inputs)\n",
        "    labels = self.augment_labels(labels)\n",
        "    return inputs, labels"
      ],
      "metadata": {
        "id": "C2967zvaTCTY"
      },
      "execution_count": 13,
      "outputs": []
    },
    {
      "cell_type": "code",
      "source": [
        "IMG_SIZE = (5000,5000)\n",
        "BATCH_SIZE = 32"
      ],
      "metadata": {
        "id": "GLiNZ1PkU_wi"
      },
      "execution_count": 14,
      "outputs": []
    },
    {
      "cell_type": "code",
      "source": [
        "data_dir = \"/path/to/image/directory\"\n",
        "filenames = tf.constant([os.path.join(data_dir, fname) for fname in os.listdir(data_dir)])\n",
        "dataset = tf.data.Dataset.from_tensor_slices((filenames))"
      ],
      "metadata": {
        "colab": {
          "base_uri": "https://localhost:8080/",
          "height": 208
        },
        "id": "1cOGAFMjWhw-",
        "outputId": "5f28342e-9caa-4f90-f86e-153c34b5ef2c"
      },
      "execution_count": 15,
      "outputs": [
        {
          "output_type": "error",
          "ename": "FileNotFoundError",
          "evalue": "ignored",
          "traceback": [
            "\u001b[0;31m---------------------------------------------------------------------------\u001b[0m",
            "\u001b[0;31mFileNotFoundError\u001b[0m                         Traceback (most recent call last)",
            "\u001b[0;32m<ipython-input-15-b2b8f9d45f3a>\u001b[0m in \u001b[0;36m<cell line: 2>\u001b[0;34m()\u001b[0m\n\u001b[1;32m      1\u001b[0m \u001b[0mdata_dir\u001b[0m \u001b[0;34m=\u001b[0m \u001b[0;34m\"/path/to/image/directory\"\u001b[0m\u001b[0;34m\u001b[0m\u001b[0;34m\u001b[0m\u001b[0m\n\u001b[0;32m----> 2\u001b[0;31m \u001b[0mfilenames\u001b[0m \u001b[0;34m=\u001b[0m \u001b[0mtf\u001b[0m\u001b[0;34m.\u001b[0m\u001b[0mconstant\u001b[0m\u001b[0;34m(\u001b[0m\u001b[0;34m[\u001b[0m\u001b[0mos\u001b[0m\u001b[0;34m.\u001b[0m\u001b[0mpath\u001b[0m\u001b[0;34m.\u001b[0m\u001b[0mjoin\u001b[0m\u001b[0;34m(\u001b[0m\u001b[0mdata_dir\u001b[0m\u001b[0;34m,\u001b[0m \u001b[0mfname\u001b[0m\u001b[0;34m)\u001b[0m \u001b[0;32mfor\u001b[0m \u001b[0mfname\u001b[0m \u001b[0;32min\u001b[0m \u001b[0mos\u001b[0m\u001b[0;34m.\u001b[0m\u001b[0mlistdir\u001b[0m\u001b[0;34m(\u001b[0m\u001b[0mdata_dir\u001b[0m\u001b[0;34m)\u001b[0m\u001b[0;34m]\u001b[0m\u001b[0;34m)\u001b[0m\u001b[0;34m\u001b[0m\u001b[0;34m\u001b[0m\u001b[0m\n\u001b[0m\u001b[1;32m      3\u001b[0m \u001b[0mdataset\u001b[0m \u001b[0;34m=\u001b[0m \u001b[0mtf\u001b[0m\u001b[0;34m.\u001b[0m\u001b[0mdata\u001b[0m\u001b[0;34m.\u001b[0m\u001b[0mDataset\u001b[0m\u001b[0;34m.\u001b[0m\u001b[0mfrom_tensor_slices\u001b[0m\u001b[0;34m(\u001b[0m\u001b[0;34m(\u001b[0m\u001b[0mfilenames\u001b[0m\u001b[0;34m)\u001b[0m\u001b[0;34m)\u001b[0m\u001b[0;34m\u001b[0m\u001b[0;34m\u001b[0m\u001b[0m\n",
            "\u001b[0;31mFileNotFoundError\u001b[0m: [Errno 2] No such file or directory: '/path/to/image/directory'"
          ]
        }
      ]
    },
    {
      "cell_type": "code",
      "source": [
        "\"/\".join('AerialImageDataset/train/gt/austin1.tif'.split(\"/\")[0:-1])"
      ],
      "metadata": {
        "colab": {
          "base_uri": "https://localhost:8080/",
          "height": 35
        },
        "id": "VSwVcpQ4WiEa",
        "outputId": "c69932c3-5c29-4286-b802-43eb9b299443"
      },
      "execution_count": 30,
      "outputs": [
        {
          "output_type": "execute_result",
          "data": {
            "text/plain": [
              "'AerialImageDataset/train/gt'"
            ],
            "application/vnd.google.colaboratory.intrinsic+json": {
              "type": "string"
            }
          },
          "metadata": {},
          "execution_count": 30
        }
      ]
    },
    {
      "cell_type": "markdown",
      "source": [],
      "metadata": {
        "id": "FwRiP716mq-K"
      }
    }
  ]
}