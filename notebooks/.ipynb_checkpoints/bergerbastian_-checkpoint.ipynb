{
 "cells": [
  {
   "cell_type": "code",
   "execution_count": null,
   "id": "d8e31963-27e9-4b98-b4ea-7f61d41ca7c6",
   "metadata": {},
   "outputs": [],
   "source": [
    "import os\n",
    "import numpy as np\n",
    "from PIL import Image\n",
    "import matplotlib.pyplot as plt"
   ]
  },
  {
   "cell_type": "code",
   "execution_count": null,
   "id": "ffe13d90-7fe4-4b2b-829e-8de248afef62",
   "metadata": {},
   "outputs": [],
   "source": [
    "def tiff_to_numpy(input_folder):\n",
    "    \"\"\"\n",
    "    Convert all TIFF images in the input_folder to numpy arrays.\n",
    "    Returns a list of numpy arrays.\n",
    "    \"\"\"\n",
    "    numpy_arrays = []\n",
    "\n",
    "    for filename in os.listdir(input_folder):\n",
    "        if filename.endswith('.tif') or filename.endswith('.tiff'):\n",
    "            image_path = os.path.join(input_folder, filename)\n",
    "            image = Image.open(image_path)\n",
    "            \n",
    "            # Convert the image to a numpy array\n",
    "            image_array = np.array(image)\n",
    "            numpy_arrays.append(image_array)\n",
    "\n",
    "    return numpy_arrays"
   ]
  },
  {
   "cell_type": "code",
   "execution_count": null,
   "id": "f9fef0fb-5117-4ab1-8949-cb75e48f984e",
   "metadata": {},
   "outputs": [],
   "source": [
    "input_folder_train_images = \"../raw_data/AerialImageDataset/train/images\"\n",
    "input_folder_train_solutions = \"../raw_data/AerialImageDataset/train/gt\""
   ]
  },
  {
   "cell_type": "code",
   "execution_count": null,
   "id": "706c1982-5d65-467c-bfbc-5c0bfb51a960",
   "metadata": {},
   "outputs": [],
   "source": [
    "X_train = tiff_to_numpy(input_folder_train_images)"
   ]
  },
  {
   "cell_type": "code",
   "execution_count": null,
   "id": "362b950d-97f9-46ed-9c1b-a6dfbddd84a2",
   "metadata": {},
   "outputs": [],
   "source": [
    "len(X_train)"
   ]
  },
  {
   "cell_type": "code",
   "execution_count": null,
   "id": "761e7cb7-4178-418e-9a5b-df530affaac3",
   "metadata": {},
   "outputs": [],
   "source": [
    "plt.imshow(X_train[0])"
   ]
  },
  {
   "cell_type": "code",
   "execution_count": null,
   "id": "54f9cf90-f9ba-4f77-9d04-3204962de9b3",
   "metadata": {},
   "outputs": [],
   "source": [
    "X_train_sizes = []\n",
    "\n",
    "for im in X_train:\n",
    "    size = im.shape\n",
    "    X_train_sizes.append(size)"
   ]
  },
  {
   "cell_type": "code",
   "execution_count": null,
   "id": "58d21771-fa89-4166-88ec-ebf96c71e6d1",
   "metadata": {
    "scrolled": true
   },
   "outputs": [],
   "source": [
    "X_train_sizes"
   ]
  },
  {
   "cell_type": "code",
   "execution_count": null,
   "id": "9954c5cc-17c6-478e-9a10-68d70229a404",
   "metadata": {},
   "outputs": [],
   "source": [
    "y_train = tiff_to_numpy(input_folder_train_solutions)"
   ]
  },
  {
   "cell_type": "code",
   "execution_count": null,
   "id": "81dfed7d-0b6d-4d68-8c06-a29e2d0af2a0",
   "metadata": {},
   "outputs": [],
   "source": [
    "y_train_sizes = []\n",
    "\n",
    "for im in y_train:\n",
    "    size = im.shape\n",
    "    y_train_sizes.append(size)"
   ]
  },
  {
   "cell_type": "code",
   "execution_count": null,
   "id": "b646f039-1403-40c4-827f-478a4899620b",
   "metadata": {
    "scrolled": true
   },
   "outputs": [],
   "source": [
    "y_train_sizes"
   ]
  },
  {
   "cell_type": "code",
   "execution_count": null,
   "id": "db414ad0-e292-405d-9411-beb85f113de2",
   "metadata": {},
   "outputs": [],
   "source": [
    "normalized_X_train =[]\n",
    "\n",
    "for im in X_train:\n",
    "    normalized = im/255\n",
    "    normalized_X_train.append(normalized)\n",
    "    "
   ]
  },
  {
   "cell_type": "code",
   "execution_count": null,
   "id": "13280962-159f-47b0-a464-cfc2eb5957d2",
   "metadata": {},
   "outputs": [],
   "source": [
    "!pip install tensorflow-macos"
   ]
  },
  {
   "cell_type": "code",
   "execution_count": 1,
   "id": "bef25d01-67b6-4bde-b7ea-eef2586a2b32",
   "metadata": {
    "execution": {
     "iopub.execute_input": "2023-09-19T13:30:18.624433Z",
     "iopub.status.busy": "2023-09-19T13:30:18.623781Z",
     "iopub.status.idle": "2023-09-19T13:30:19.118038Z",
     "shell.execute_reply": "2023-09-19T13:30:19.117333Z",
     "shell.execute_reply.started": "2023-09-19T13:30:18.624395Z"
    }
   },
   "outputs": [
    {
     "ename": "ModuleNotFoundError",
     "evalue": "No module named 'tensorflow'",
     "output_type": "error",
     "traceback": [
      "\u001b[0;31m---------------------------------------------------------------------------\u001b[0m",
      "\u001b[0;31mModuleNotFoundError\u001b[0m                       Traceback (most recent call last)",
      "Cell \u001b[0;32mIn[1], line 4\u001b[0m\n\u001b[1;32m      2\u001b[0m \u001b[38;5;28;01mimport\u001b[39;00m \u001b[38;5;21;01mos\u001b[39;00m\n\u001b[1;32m      3\u001b[0m \u001b[38;5;28;01mfrom\u001b[39;00m \u001b[38;5;21;01mPIL\u001b[39;00m \u001b[38;5;28;01mimport\u001b[39;00m Image\n\u001b[0;32m----> 4\u001b[0m \u001b[38;5;28;01mfrom\u001b[39;00m \u001b[38;5;21;01mtensorflow\u001b[39;00m\u001b[38;5;21;01m.\u001b[39;00m\u001b[38;5;21;01mkeras\u001b[39;00m\u001b[38;5;21;01m.\u001b[39;00m\u001b[38;5;21;01mutils\u001b[39;00m \u001b[38;5;28;01mimport\u001b[39;00m Sequence\n\u001b[1;32m      6\u001b[0m \u001b[38;5;28;01mclass\u001b[39;00m \u001b[38;5;21;01mTIFImageGenerator\u001b[39;00m(Sequence):\n\u001b[1;32m      7\u001b[0m     \u001b[38;5;28;01mdef\u001b[39;00m \u001b[38;5;21m__init__\u001b[39m(\u001b[38;5;28mself\u001b[39m, image_dir, mask_dir, batch_size, img_size, shuffle\u001b[38;5;241m=\u001b[39m\u001b[38;5;28;01mTrue\u001b[39;00m):\n",
      "\u001b[0;31mModuleNotFoundError\u001b[0m: No module named 'tensorflow'"
     ]
    }
   ],
   "source": [
    "import numpy as np\n",
    "import os\n",
    "from PIL import Image\n",
    "from tensorflow.keras.utils import Sequence\n",
    "\n",
    "class TIFImageGenerator(Sequence):\n",
    "    def __init__(self, image_dir, mask_dir, batch_size, img_size, shuffle=True):\n",
    "        self.image_dir = image_dir\n",
    "        self.mask_dir = mask_dir\n",
    "        self.batch_size = batch_size\n",
    "        self.img_size = img_size\n",
    "        self.shuffle = shuffle\n",
    "        self.image_filenames = os.listdir(image_dir)\n",
    "        if shuffle:\n",
    "            np.random.shuffle(self.image_filenames)\n",
    "\n",
    "    def __len__(self):\n",
    "        return len(self.image_filenames) // self.batch_size\n",
    "\n",
    "    def __getitem__(self, index):\n",
    "        batch_files = self.image_filenames[index * self.batch_size:(index + 1) * self.batch_size]\n",
    "        X = np.zeros((self.batch_size, *self.img_size, 1))\n",
    "        y = np.zeros((self.batch_size, *self.img_size, 1))\n",
    "        \n",
    "        for i, file in enumerate(batch_files):\n",
    "            img_path = os.path.join(self.image_dir, file)\n",
    "            mask_path = os.path.join(self.mask_dir, file)  # Assuming masks have the same filenames\n",
    "            img = Image.open(img_path).resize(self.img_size)\n",
    "            mask = Image.open(mask_path).resize(self.img_size)\n",
    "            \n",
    "            X[i] = np.expand_dims(np.array(img), axis=-1) / 255.0  # Normalize to [0, 1]\n",
    "            y[i] = np.expand_dims(np.array(mask), axis=-1) / 255.0\n",
    "\n",
    "        return X, y\n",
    "\n",
    "    def on_epoch_end(self):\n",
    "        if self.shuffle:\n",
    "            np.random.shuffle(self.image_filenames)"
   ]
  }
 ],
 "metadata": {
  "kernelspec": {
   "display_name": "Python 3 (ipykernel)",
   "language": "python",
   "name": "python3"
  },
  "language_info": {
   "codemirror_mode": {
    "name": "ipython",
    "version": 3
   },
   "file_extension": ".py",
   "mimetype": "text/x-python",
   "name": "python",
   "nbconvert_exporter": "python",
   "pygments_lexer": "ipython3",
   "version": "3.10.6"
  }
 },
 "nbformat": 4,
 "nbformat_minor": 5
}
