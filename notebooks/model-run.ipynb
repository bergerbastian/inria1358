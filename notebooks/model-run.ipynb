{
 "cells": [
  {
   "cell_type": "code",
   "execution_count": 1,
   "id": "d90b8dba-abe8-40a4-9ff0-c41fcde20843",
   "metadata": {},
   "outputs": [],
   "source": [
    "%load_ext autoreload\n",
    "\n",
    "%autoreload 2"
   ]
  },
  {
   "cell_type": "code",
   "execution_count": 3,
   "id": "db5b019d-4a54-4349-a2f8-57c0463050ef",
   "metadata": {},
   "outputs": [],
   "source": [
    "import sys\n",
    "import pickle\n",
    "import datetime\n",
    "sys.path.append('/home/jupyter/bastianberger/inria1358')\n",
    "from ML.preprocessing import create_datasets\n",
    "from ML.model import make_model\n",
    "import pandas as pd"
   ]
  },
  {
   "cell_type": "code",
   "execution_count": 4,
   "id": "1471ca4c-fdd4-4294-a659-5da2ea6e356c",
   "metadata": {},
   "outputs": [],
   "source": [
    "patches_path = '/home/jupyter/bastianberger/inria1358/raw_data/patches2'"
   ]
  },
  {
   "cell_type": "code",
   "execution_count": 5,
   "id": "9185fc94-aa23-4067-b172-2f01e14586bd",
   "metadata": {},
   "outputs": [
    {
     "name": "stderr",
     "output_type": "stream",
     "text": [
      "2023-09-25 17:33:42.660759: I tensorflow/compiler/xla/stream_executor/cuda/cuda_gpu_executor.cc:981] successful NUMA node read from SysFS had negative value (-1), but there must be at least one NUMA node, so returning NUMA node zero\n",
      "2023-09-25 17:33:42.673486: I tensorflow/compiler/xla/stream_executor/cuda/cuda_gpu_executor.cc:981] successful NUMA node read from SysFS had negative value (-1), but there must be at least one NUMA node, so returning NUMA node zero\n",
      "2023-09-25 17:33:42.676039: I tensorflow/compiler/xla/stream_executor/cuda/cuda_gpu_executor.cc:981] successful NUMA node read from SysFS had negative value (-1), but there must be at least one NUMA node, so returning NUMA node zero\n",
      "2023-09-25 17:33:42.679011: I tensorflow/core/platform/cpu_feature_guard.cc:193] This TensorFlow binary is optimized with oneAPI Deep Neural Network Library (oneDNN) to use the following CPU instructions in performance-critical operations:  AVX2 AVX512F FMA\n",
      "To enable them in other operations, rebuild TensorFlow with the appropriate compiler flags.\n",
      "2023-09-25 17:33:42.681077: I tensorflow/compiler/xla/stream_executor/cuda/cuda_gpu_executor.cc:981] successful NUMA node read from SysFS had negative value (-1), but there must be at least one NUMA node, so returning NUMA node zero\n",
      "2023-09-25 17:33:42.683545: I tensorflow/compiler/xla/stream_executor/cuda/cuda_gpu_executor.cc:981] successful NUMA node read from SysFS had negative value (-1), but there must be at least one NUMA node, so returning NUMA node zero\n",
      "2023-09-25 17:33:42.686048: I tensorflow/compiler/xla/stream_executor/cuda/cuda_gpu_executor.cc:981] successful NUMA node read from SysFS had negative value (-1), but there must be at least one NUMA node, so returning NUMA node zero\n",
      "2023-09-25 17:33:43.487033: I tensorflow/compiler/xla/stream_executor/cuda/cuda_gpu_executor.cc:981] successful NUMA node read from SysFS had negative value (-1), but there must be at least one NUMA node, so returning NUMA node zero\n",
      "2023-09-25 17:33:43.488962: I tensorflow/compiler/xla/stream_executor/cuda/cuda_gpu_executor.cc:981] successful NUMA node read from SysFS had negative value (-1), but there must be at least one NUMA node, so returning NUMA node zero\n",
      "2023-09-25 17:33:43.490565: I tensorflow/compiler/xla/stream_executor/cuda/cuda_gpu_executor.cc:981] successful NUMA node read from SysFS had negative value (-1), but there must be at least one NUMA node, so returning NUMA node zero\n",
      "2023-09-25 17:33:43.492094: I tensorflow/core/common_runtime/gpu/gpu_device.cc:1613] Created device /job:localhost/replica:0/task:0/device:GPU:0 with 13582 MB memory:  -> device: 0, name: Tesla T4, pci bus id: 0000:00:04.0, compute capability: 7.5\n"
     ]
    },
    {
     "name": "stdout",
     "output_type": "stream",
     "text": [
      "✅ Test_batches with 11250 images (176 batches) created\n",
      "✅ Train_batches with 70875 images (1108 batches) created\n",
      "✅ Val_batches with 30375 images (475 batches) created\n"
     ]
    }
   ],
   "source": [
    "test_batches, train_batches, val_batches = create_datasets(patches_path,val_size=0.3)"
   ]
  },
  {
   "cell_type": "code",
   "execution_count": 6,
   "id": "83e77a15-6fe2-4c7f-b6c0-2948caa07e4d",
   "metadata": {},
   "outputs": [
    {
     "name": "stdout",
     "output_type": "stream",
     "text": [
      "✅ SEGNET Model initialized\n",
      "✅ Model compiled\n",
      "Epoch 1/100\n"
     ]
    },
    {
     "name": "stderr",
     "output_type": "stream",
     "text": [
      "2023-09-25 17:33:49.578471: I tensorflow/compiler/xla/stream_executor/cuda/cuda_dnn.cc:428] Loaded cuDNN version 8200\n",
      "2023-09-25 17:33:56.207474: W tensorflow/tsl/framework/bfc_allocator.cc:290] Allocator (GPU_0_bfc) ran out of memory trying to allocate 6.67GiB with freed_by_count=0. The caller indicates that this is not a failure, but this may mean that there could be performance gains if more memory were available.\n",
      "2023-09-25 17:33:56.207540: W tensorflow/tsl/framework/bfc_allocator.cc:290] Allocator (GPU_0_bfc) ran out of memory trying to allocate 6.67GiB with freed_by_count=0. The caller indicates that this is not a failure, but this may mean that there could be performance gains if more memory were available.\n",
      "2023-09-25 17:33:57.397756: W tensorflow/tsl/framework/bfc_allocator.cc:290] Allocator (GPU_0_bfc) ran out of memory trying to allocate 6.06GiB with freed_by_count=0. The caller indicates that this is not a failure, but this may mean that there could be performance gains if more memory were available.\n",
      "2023-09-25 17:33:57.397815: W tensorflow/tsl/framework/bfc_allocator.cc:290] Allocator (GPU_0_bfc) ran out of memory trying to allocate 6.06GiB with freed_by_count=0. The caller indicates that this is not a failure, but this may mean that there could be performance gains if more memory were available.\n"
     ]
    },
    {
     "name": "stdout",
     "output_type": "stream",
     "text": [
      "1108/1108 [==============================] - 1064s 947ms/step - loss: 0.2560 - accuracy: 0.8978 - binary_io_u: 0.4661 - val_loss: 0.2725 - val_accuracy: 0.9006 - val_binary_io_u: 0.4376\n",
      "Epoch 2/100\n",
      "1108/1108 [==============================] - 1038s 937ms/step - loss: 0.2111 - accuracy: 0.9158 - binary_io_u: 0.5474 - val_loss: 0.2610 - val_accuracy: 0.8928 - val_binary_io_u: 0.5107\n",
      "Epoch 3/100\n",
      "1108/1108 [==============================] - 1038s 937ms/step - loss: 0.1970 - accuracy: 0.9217 - binary_io_u: 0.5775 - val_loss: 0.1981 - val_accuracy: 0.9210 - val_binary_io_u: 0.5800\n",
      "Epoch 4/100\n",
      "1108/1108 [==============================] - 1037s 936ms/step - loss: 0.1871 - accuracy: 0.9258 - binary_io_u: 0.5984 - val_loss: 0.2206 - val_accuracy: 0.9155 - val_binary_io_u: 0.5648\n",
      "Epoch 5/100\n",
      "  20/1108 [..............................] - ETA: 14:52 - loss: 0.1945 - accuracy: 0.9209 - binary_io_u: 0.5806"
     ]
    },
    {
     "name": "stderr",
     "output_type": "stream",
     "text": [
      "IOPub message rate exceeded.\n",
      "The Jupyter server will temporarily stop sending output\n",
      "to the client in order to avoid crashing it.\n",
      "To change this limit, set the config variable\n",
      "`--ServerApp.iopub_msg_rate_limit`.\n",
      "\n",
      "Current values:\n",
      "ServerApp.iopub_msg_rate_limit=1000.0 (msgs/sec)\n",
      "ServerApp.rate_limit_window=3.0 (secs)\n",
      "\n"
     ]
    },
    {
     "name": "stdout",
     "output_type": "stream",
     "text": [
      "1108/1108 [==============================] - 1037s 936ms/step - loss: 0.1759 - accuracy: 0.9305 - binary_io_u: 0.6222 - val_loss: 0.2307 - val_accuracy: 0.9003 - val_binary_io_u: 0.5666\n",
      "Epoch 7/100\n",
      "1108/1108 [==============================] - 1037s 936ms/step - loss: 0.1721 - accuracy: 0.9320 - binary_io_u: 0.6302 - val_loss: 0.1770 - val_accuracy: 0.9296 - val_binary_io_u: 0.6102\n",
      "Epoch 8/100\n",
      "1108/1108 [==============================] - 1037s 936ms/step - loss: 0.1681 - accuracy: 0.9336 - binary_io_u: 0.6382 - val_loss: 0.3959 - val_accuracy: 0.8411 - val_binary_io_u: 0.4656\n",
      "Epoch 9/100\n",
      "1108/1108 [==============================] - ETA: 0s - loss: 0.1652 - accuracy: 0.9348 - binary_io_u: 0.6443Restoring model weights from the end of the best epoch: 7.\n",
      "1108/1108 [==============================] - 1038s 936ms/step - loss: 0.1652 - accuracy: 0.9348 - binary_io_u: 0.6443 - val_loss: 0.1960 - val_accuracy: 0.9189 - val_binary_io_u: 0.6007\n",
      "Epoch 9: early stopping\n",
      "✅ Model trained on 1108 batches over 100 epochs.\n"
     ]
    }
   ],
   "source": [
    "model_segnet, history_segnet = make_model(train_batches, val_batches, input_shape=(200,200,3), model_name='segnet', epochs=100)"
   ]
  },
  {
   "cell_type": "code",
   "execution_count": 7,
   "id": "f8d6088c-49a2-4d4b-aa66-8c50456c9bdb",
   "metadata": {},
   "outputs": [
    {
     "name": "stderr",
     "output_type": "stream",
     "text": [
      "WARNING:absl:Found untraced functions such as _jit_compiled_convolution_op, _jit_compiled_convolution_op, _jit_compiled_convolution_op, _jit_compiled_convolution_op, _jit_compiled_convolution_op while saving (showing 5 of 7). These functions will not be directly callable after loading.\n"
     ]
    },
    {
     "name": "stdout",
     "output_type": "stream",
     "text": [
      "INFO:tensorflow:Assets written to: ./logs/models/segnet_noes/assets\n"
     ]
    },
    {
     "name": "stderr",
     "output_type": "stream",
     "text": [
      "INFO:tensorflow:Assets written to: ./logs/models/segnet_noes/assets\n"
     ]
    }
   ],
   "source": [
    "hist_df = pd.DataFrame(history_segnet.history)\n",
    "hist_df.to_csv('./logs/histories/segnet_noes.csv')\n",
    "model_segnet.save('./logs/models/segnet_noes')"
   ]
  },
  {
   "cell_type": "code",
   "execution_count": 8,
   "id": "1a33e1d6-6204-4c11-bc0c-22f509091f20",
   "metadata": {},
   "outputs": [
    {
     "data": {
      "text/html": [
       "<div>\n",
       "<style scoped>\n",
       "    .dataframe tbody tr th:only-of-type {\n",
       "        vertical-align: middle;\n",
       "    }\n",
       "\n",
       "    .dataframe tbody tr th {\n",
       "        vertical-align: top;\n",
       "    }\n",
       "\n",
       "    .dataframe thead th {\n",
       "        text-align: right;\n",
       "    }\n",
       "</style>\n",
       "<table border=\"1\" class=\"dataframe\">\n",
       "  <thead>\n",
       "    <tr style=\"text-align: right;\">\n",
       "      <th></th>\n",
       "      <th>loss</th>\n",
       "      <th>accuracy</th>\n",
       "      <th>binary_io_u</th>\n",
       "      <th>val_loss</th>\n",
       "      <th>val_accuracy</th>\n",
       "      <th>val_binary_io_u</th>\n",
       "    </tr>\n",
       "  </thead>\n",
       "  <tbody>\n",
       "    <tr>\n",
       "      <th>0</th>\n",
       "      <td>0.256019</td>\n",
       "      <td>0.897801</td>\n",
       "      <td>0.466070</td>\n",
       "      <td>0.272465</td>\n",
       "      <td>0.900619</td>\n",
       "      <td>0.437593</td>\n",
       "    </tr>\n",
       "    <tr>\n",
       "      <th>1</th>\n",
       "      <td>0.211084</td>\n",
       "      <td>0.915837</td>\n",
       "      <td>0.547413</td>\n",
       "      <td>0.261026</td>\n",
       "      <td>0.892750</td>\n",
       "      <td>0.510683</td>\n",
       "    </tr>\n",
       "    <tr>\n",
       "      <th>2</th>\n",
       "      <td>0.196989</td>\n",
       "      <td>0.921689</td>\n",
       "      <td>0.577528</td>\n",
       "      <td>0.198089</td>\n",
       "      <td>0.920990</td>\n",
       "      <td>0.579982</td>\n",
       "    </tr>\n",
       "    <tr>\n",
       "      <th>3</th>\n",
       "      <td>0.187072</td>\n",
       "      <td>0.925788</td>\n",
       "      <td>0.598410</td>\n",
       "      <td>0.220635</td>\n",
       "      <td>0.915466</td>\n",
       "      <td>0.564806</td>\n",
       "    </tr>\n",
       "    <tr>\n",
       "      <th>4</th>\n",
       "      <td>0.181148</td>\n",
       "      <td>0.928263</td>\n",
       "      <td>0.611007</td>\n",
       "      <td>0.198026</td>\n",
       "      <td>0.923061</td>\n",
       "      <td>0.571843</td>\n",
       "    </tr>\n",
       "    <tr>\n",
       "      <th>5</th>\n",
       "      <td>0.175876</td>\n",
       "      <td>0.930476</td>\n",
       "      <td>0.622249</td>\n",
       "      <td>0.230700</td>\n",
       "      <td>0.900324</td>\n",
       "      <td>0.566589</td>\n",
       "    </tr>\n",
       "    <tr>\n",
       "      <th>6</th>\n",
       "      <td>0.172077</td>\n",
       "      <td>0.931985</td>\n",
       "      <td>0.630170</td>\n",
       "      <td>0.176988</td>\n",
       "      <td>0.929629</td>\n",
       "      <td>0.610206</td>\n",
       "    </tr>\n",
       "    <tr>\n",
       "      <th>7</th>\n",
       "      <td>0.168063</td>\n",
       "      <td>0.933642</td>\n",
       "      <td>0.638230</td>\n",
       "      <td>0.395857</td>\n",
       "      <td>0.841075</td>\n",
       "      <td>0.465632</td>\n",
       "    </tr>\n",
       "    <tr>\n",
       "      <th>8</th>\n",
       "      <td>0.165154</td>\n",
       "      <td>0.934817</td>\n",
       "      <td>0.644275</td>\n",
       "      <td>0.196007</td>\n",
       "      <td>0.918914</td>\n",
       "      <td>0.600668</td>\n",
       "    </tr>\n",
       "  </tbody>\n",
       "</table>\n",
       "</div>"
      ],
      "text/plain": [
       "       loss  accuracy  binary_io_u  val_loss  val_accuracy  val_binary_io_u\n",
       "0  0.256019  0.897801     0.466070  0.272465      0.900619         0.437593\n",
       "1  0.211084  0.915837     0.547413  0.261026      0.892750         0.510683\n",
       "2  0.196989  0.921689     0.577528  0.198089      0.920990         0.579982\n",
       "3  0.187072  0.925788     0.598410  0.220635      0.915466         0.564806\n",
       "4  0.181148  0.928263     0.611007  0.198026      0.923061         0.571843\n",
       "5  0.175876  0.930476     0.622249  0.230700      0.900324         0.566589\n",
       "6  0.172077  0.931985     0.630170  0.176988      0.929629         0.610206\n",
       "7  0.168063  0.933642     0.638230  0.395857      0.841075         0.465632\n",
       "8  0.165154  0.934817     0.644275  0.196007      0.918914         0.600668"
      ]
     },
     "execution_count": 8,
     "metadata": {},
     "output_type": "execute_result"
    }
   ],
   "source": [
    "hist_df"
   ]
  },
  {
   "cell_type": "code",
   "execution_count": 11,
   "id": "6badae6c-39b4-485d-a14b-dffb1d54fbe3",
   "metadata": {
    "collapsed": true,
    "jupyter": {
     "outputs_hidden": true
    },
    "tags": []
   },
   "outputs": [
    {
     "name": "stdout",
     "output_type": "stream",
     "text": [
      "The tensorboard extension is already loaded. To reload it, use:\n",
      "  %reload_ext tensorboard\n"
     ]
    },
    {
     "data": {
      "text/html": [
       "\n",
       "      <iframe id=\"tensorboard-frame-36d59356d65c892a\" width=\"100%\" height=\"800\" frameborder=\"0\">\n",
       "      </iframe>\n",
       "      <script>\n",
       "        (function() {\n",
       "          const frame = document.getElementById(\"tensorboard-frame-36d59356d65c892a\");\n",
       "          const url = new URL(\"/proxy/6006/\", window.location);\n",
       "          const port = 0;\n",
       "          if (port) {\n",
       "            url.port = port;\n",
       "          }\n",
       "          frame.src = url;\n",
       "        })();\n",
       "      </script>\n",
       "    "
      ],
      "text/plain": [
       "<IPython.core.display.HTML object>"
      ]
     },
     "metadata": {},
     "output_type": "display_data"
    }
   ],
   "source": [
    "%load_ext tensorboard\n",
    "%tensorboard --logdir logs/fit"
   ]
  },
  {
   "cell_type": "code",
   "execution_count": null,
   "id": "d9cf1f95-0cf4-4ae6-81bb-3bd08af5aee4",
   "metadata": {},
   "outputs": [
    {
     "name": "stdout",
     "output_type": "stream",
     "text": [
      "✅ UNET Model initialized\n",
      "✅ Model compiled\n",
      "Epoch 1/100\n"
     ]
    },
    {
     "name": "stderr",
     "output_type": "stream",
     "text": [
      "2023-09-25 20:30:10.608722: W tensorflow/tsl/framework/bfc_allocator.cc:290] Allocator (GPU_0_bfc) ran out of memory trying to allocate 1.85GiB with freed_by_count=0. The caller indicates that this is not a failure, but this may mean that there could be performance gains if more memory were available.\n",
      "2023-09-25 20:30:10.608788: W tensorflow/tsl/framework/bfc_allocator.cc:290] Allocator (GPU_0_bfc) ran out of memory trying to allocate 1.85GiB with freed_by_count=0. The caller indicates that this is not a failure, but this may mean that there could be performance gains if more memory were available.\n",
      "2023-09-25 20:30:11.050773: W tensorflow/tsl/framework/bfc_allocator.cc:290] Allocator (GPU_0_bfc) ran out of memory trying to allocate 5.51GiB with freed_by_count=0. The caller indicates that this is not a failure, but this may mean that there could be performance gains if more memory were available.\n",
      "2023-09-25 20:30:11.050836: W tensorflow/tsl/framework/bfc_allocator.cc:290] Allocator (GPU_0_bfc) ran out of memory trying to allocate 5.51GiB with freed_by_count=0. The caller indicates that this is not a failure, but this may mean that there could be performance gains if more memory were available.\n",
      "2023-09-25 20:30:12.208081: W tensorflow/tsl/framework/bfc_allocator.cc:290] Allocator (GPU_0_bfc) ran out of memory trying to allocate 5.51GiB with freed_by_count=0. The caller indicates that this is not a failure, but this may mean that there could be performance gains if more memory were available.\n",
      "2023-09-25 20:30:12.208146: W tensorflow/tsl/framework/bfc_allocator.cc:290] Allocator (GPU_0_bfc) ran out of memory trying to allocate 5.51GiB with freed_by_count=0. The caller indicates that this is not a failure, but this may mean that there could be performance gains if more memory were available.\n"
     ]
    },
    {
     "name": "stdout",
     "output_type": "stream",
     "text": [
      "1108/1108 [==============================] - 1511s 1s/step - loss: 0.2529 - accuracy: 0.8978 - binary_io_u_1: 0.4499 - val_loss: 0.2015 - val_accuracy: 0.9196 - val_binary_io_u_1: 0.5399\n",
      "Epoch 2/100\n",
      "1108/1108 [==============================] - 1477s 1s/step - loss: 0.1935 - accuracy: 0.9238 - binary_io_u_1: 0.5873 - val_loss: 0.1804 - val_accuracy: 0.9291 - val_binary_io_u_1: 0.6029\n",
      "Epoch 3/100\n",
      "1108/1108 [==============================] - 1476s 1s/step - loss: 0.1751 - accuracy: 0.9315 - binary_io_u_1: 0.6264 - val_loss: 0.1711 - val_accuracy: 0.9322 - val_binary_io_u_1: 0.6117\n",
      "Epoch 4/100\n",
      "1108/1108 [==============================] - 1475s 1s/step - loss: 0.1636 - accuracy: 0.9361 - binary_io_u_1: 0.6501 - val_loss: 0.1608 - val_accuracy: 0.9374 - val_binary_io_u_1: 0.6452\n",
      "Epoch 5/100\n",
      "1108/1108 [==============================] - 1474s 1s/step - loss: 0.1575 - accuracy: 0.9385 - binary_io_u_1: 0.6626 - val_loss: 0.1558 - val_accuracy: 0.9394 - val_binary_io_u_1: 0.6689\n",
      "Epoch 6/100\n",
      "1108/1108 [==============================] - 1470s 1s/step - loss: 0.1517 - accuracy: 0.9409 - binary_io_u_1: 0.6743 - val_loss: 0.1572 - val_accuracy: 0.9379 - val_binary_io_u_1: 0.6439\n",
      "Epoch 7/100\n",
      "1108/1108 [==============================] - 1468s 1s/step - loss: 0.1465 - accuracy: 0.9430 - binary_io_u_1: 0.6851 - val_loss: 0.1504 - val_accuracy: 0.9415 - val_binary_io_u_1: 0.6702\n",
      "Epoch 8/100\n",
      "1108/1108 [==============================] - 1467s 1s/step - loss: 0.1413 - accuracy: 0.9451 - binary_io_u_1: 0.6960 - val_loss: 0.1501 - val_accuracy: 0.9414 - val_binary_io_u_1: 0.6833\n",
      "Epoch 9/100\n",
      " 851/1108 [======================>.......] - ETA: 5:03 - loss: 0.1391 - accuracy: 0.9458 - binary_io_u_1: 0.6993"
     ]
    }
   ],
   "source": [
    "model_unet, history_unet = make_model(train_batches, val_batches, input_shape=(200,200,3), model_name='unet', epochs=100)"
   ]
  },
  {
   "cell_type": "code",
   "execution_count": null,
   "id": "a38f8a45-b079-41a9-a3de-d8209f824e02",
   "metadata": {},
   "outputs": [],
   "source": [
    "hist_df = pd.DataFrame(history_unet.history)\n",
    "hist_df.to_csv('./logs/histories/unet.csv')\n",
    "model_segnet.save('./logs/models/unet')"
   ]
  },
  {
   "cell_type": "code",
   "execution_count": 11,
   "id": "bf4e9736-6d73-435f-8eeb-18184e6e0248",
   "metadata": {},
   "outputs": [
    {
     "data": {
      "text/html": [
       "<div>\n",
       "<style scoped>\n",
       "    .dataframe tbody tr th:only-of-type {\n",
       "        vertical-align: middle;\n",
       "    }\n",
       "\n",
       "    .dataframe tbody tr th {\n",
       "        vertical-align: top;\n",
       "    }\n",
       "\n",
       "    .dataframe thead th {\n",
       "        text-align: right;\n",
       "    }\n",
       "</style>\n",
       "<table border=\"1\" class=\"dataframe\">\n",
       "  <thead>\n",
       "    <tr style=\"text-align: right;\">\n",
       "      <th></th>\n",
       "      <th>loss</th>\n",
       "      <th>accuracy</th>\n",
       "      <th>binary_io_u_1</th>\n",
       "      <th>val_loss</th>\n",
       "      <th>val_accuracy</th>\n",
       "      <th>val_binary_io_u_1</th>\n",
       "    </tr>\n",
       "  </thead>\n",
       "  <tbody>\n",
       "    <tr>\n",
       "      <th>0</th>\n",
       "      <td>0.252877</td>\n",
       "      <td>0.897774</td>\n",
       "      <td>0.449877</td>\n",
       "      <td>0.201550</td>\n",
       "      <td>0.919573</td>\n",
       "      <td>0.539885</td>\n",
       "    </tr>\n",
       "    <tr>\n",
       "      <th>1</th>\n",
       "      <td>0.193501</td>\n",
       "      <td>0.923810</td>\n",
       "      <td>0.587299</td>\n",
       "      <td>0.180407</td>\n",
       "      <td>0.929148</td>\n",
       "      <td>0.602877</td>\n",
       "    </tr>\n",
       "    <tr>\n",
       "      <th>2</th>\n",
       "      <td>0.175054</td>\n",
       "      <td>0.931522</td>\n",
       "      <td>0.626432</td>\n",
       "      <td>0.171063</td>\n",
       "      <td>0.932192</td>\n",
       "      <td>0.611667</td>\n",
       "    </tr>\n",
       "    <tr>\n",
       "      <th>3</th>\n",
       "      <td>0.163589</td>\n",
       "      <td>0.936107</td>\n",
       "      <td>0.650071</td>\n",
       "      <td>0.160783</td>\n",
       "      <td>0.937351</td>\n",
       "      <td>0.645197</td>\n",
       "    </tr>\n",
       "    <tr>\n",
       "      <th>4</th>\n",
       "      <td>0.157455</td>\n",
       "      <td>0.938549</td>\n",
       "      <td>0.662564</td>\n",
       "      <td>0.155753</td>\n",
       "      <td>0.939373</td>\n",
       "      <td>0.668906</td>\n",
       "    </tr>\n",
       "    <tr>\n",
       "      <th>5</th>\n",
       "      <td>0.151724</td>\n",
       "      <td>0.940865</td>\n",
       "      <td>0.674295</td>\n",
       "      <td>0.157237</td>\n",
       "      <td>0.937866</td>\n",
       "      <td>0.643923</td>\n",
       "    </tr>\n",
       "    <tr>\n",
       "      <th>6</th>\n",
       "      <td>0.146528</td>\n",
       "      <td>0.942956</td>\n",
       "      <td>0.685060</td>\n",
       "      <td>0.150359</td>\n",
       "      <td>0.941509</td>\n",
       "      <td>0.670152</td>\n",
       "    </tr>\n",
       "    <tr>\n",
       "      <th>7</th>\n",
       "      <td>0.141342</td>\n",
       "      <td>0.945132</td>\n",
       "      <td>0.695966</td>\n",
       "      <td>0.150148</td>\n",
       "      <td>0.941385</td>\n",
       "      <td>0.683334</td>\n",
       "    </tr>\n",
       "    <tr>\n",
       "      <th>8</th>\n",
       "      <td>0.138611</td>\n",
       "      <td>0.946035</td>\n",
       "      <td>0.700672</td>\n",
       "      <td>0.145070</td>\n",
       "      <td>0.944497</td>\n",
       "      <td>0.686421</td>\n",
       "    </tr>\n",
       "    <tr>\n",
       "      <th>9</th>\n",
       "      <td>0.134133</td>\n",
       "      <td>0.948002</td>\n",
       "      <td>0.710599</td>\n",
       "      <td>0.140449</td>\n",
       "      <td>0.945832</td>\n",
       "      <td>0.699738</td>\n",
       "    </tr>\n",
       "    <tr>\n",
       "      <th>10</th>\n",
       "      <td>0.130843</td>\n",
       "      <td>0.949248</td>\n",
       "      <td>0.717013</td>\n",
       "      <td>0.138583</td>\n",
       "      <td>0.946369</td>\n",
       "      <td>0.702634</td>\n",
       "    </tr>\n",
       "    <tr>\n",
       "      <th>11</th>\n",
       "      <td>0.128076</td>\n",
       "      <td>0.950324</td>\n",
       "      <td>0.722399</td>\n",
       "      <td>0.145817</td>\n",
       "      <td>0.943347</td>\n",
       "      <td>0.691516</td>\n",
       "    </tr>\n",
       "    <tr>\n",
       "      <th>12</th>\n",
       "      <td>0.125197</td>\n",
       "      <td>0.951444</td>\n",
       "      <td>0.728164</td>\n",
       "      <td>0.142707</td>\n",
       "      <td>0.944151</td>\n",
       "      <td>0.702922</td>\n",
       "    </tr>\n",
       "  </tbody>\n",
       "</table>\n",
       "</div>"
      ],
      "text/plain": [
       "        loss  accuracy  binary_io_u_1  val_loss  val_accuracy  \\\n",
       "0   0.252877  0.897774       0.449877  0.201550      0.919573   \n",
       "1   0.193501  0.923810       0.587299  0.180407      0.929148   \n",
       "2   0.175054  0.931522       0.626432  0.171063      0.932192   \n",
       "3   0.163589  0.936107       0.650071  0.160783      0.937351   \n",
       "4   0.157455  0.938549       0.662564  0.155753      0.939373   \n",
       "5   0.151724  0.940865       0.674295  0.157237      0.937866   \n",
       "6   0.146528  0.942956       0.685060  0.150359      0.941509   \n",
       "7   0.141342  0.945132       0.695966  0.150148      0.941385   \n",
       "8   0.138611  0.946035       0.700672  0.145070      0.944497   \n",
       "9   0.134133  0.948002       0.710599  0.140449      0.945832   \n",
       "10  0.130843  0.949248       0.717013  0.138583      0.946369   \n",
       "11  0.128076  0.950324       0.722399  0.145817      0.943347   \n",
       "12  0.125197  0.951444       0.728164  0.142707      0.944151   \n",
       "\n",
       "    val_binary_io_u_1  \n",
       "0            0.539885  \n",
       "1            0.602877  \n",
       "2            0.611667  \n",
       "3            0.645197  \n",
       "4            0.668906  \n",
       "5            0.643923  \n",
       "6            0.670152  \n",
       "7            0.683334  \n",
       "8            0.686421  \n",
       "9            0.699738  \n",
       "10           0.702634  \n",
       "11           0.691516  \n",
       "12           0.702922  "
      ]
     },
     "execution_count": 11,
     "metadata": {},
     "output_type": "execute_result"
    }
   ],
   "source": [
    "hist_df"
   ]
  },
  {
   "cell_type": "code",
   "execution_count": 14,
   "id": "4524741a-9e00-4bd5-968e-dda35f6f2cdd",
   "metadata": {},
   "outputs": [],
   "source": [
    "unet_df = pd.read_csv('./logs/histories/unet.csv')\n",
    "segnet_df = pd.read_csv('./logs/histories/segnet_noes.csv')"
   ]
  },
  {
   "cell_type": "code",
   "execution_count": 15,
   "id": "352d9247-e68d-43be-ac58-d713ecd67685",
   "metadata": {},
   "outputs": [
    {
     "data": {
      "text/html": [
       "<div>\n",
       "<style scoped>\n",
       "    .dataframe tbody tr th:only-of-type {\n",
       "        vertical-align: middle;\n",
       "    }\n",
       "\n",
       "    .dataframe tbody tr th {\n",
       "        vertical-align: top;\n",
       "    }\n",
       "\n",
       "    .dataframe thead th {\n",
       "        text-align: right;\n",
       "    }\n",
       "</style>\n",
       "<table border=\"1\" class=\"dataframe\">\n",
       "  <thead>\n",
       "    <tr style=\"text-align: right;\">\n",
       "      <th></th>\n",
       "      <th>Unnamed: 0</th>\n",
       "      <th>loss</th>\n",
       "      <th>accuracy</th>\n",
       "      <th>binary_io_u_1</th>\n",
       "      <th>val_loss</th>\n",
       "      <th>val_accuracy</th>\n",
       "      <th>val_binary_io_u_1</th>\n",
       "    </tr>\n",
       "  </thead>\n",
       "  <tbody>\n",
       "    <tr>\n",
       "      <th>0</th>\n",
       "      <td>0</td>\n",
       "      <td>0.252877</td>\n",
       "      <td>0.897774</td>\n",
       "      <td>0.449877</td>\n",
       "      <td>0.201550</td>\n",
       "      <td>0.919573</td>\n",
       "      <td>0.539885</td>\n",
       "    </tr>\n",
       "    <tr>\n",
       "      <th>1</th>\n",
       "      <td>1</td>\n",
       "      <td>0.193501</td>\n",
       "      <td>0.923810</td>\n",
       "      <td>0.587299</td>\n",
       "      <td>0.180407</td>\n",
       "      <td>0.929148</td>\n",
       "      <td>0.602877</td>\n",
       "    </tr>\n",
       "    <tr>\n",
       "      <th>2</th>\n",
       "      <td>2</td>\n",
       "      <td>0.175054</td>\n",
       "      <td>0.931522</td>\n",
       "      <td>0.626432</td>\n",
       "      <td>0.171063</td>\n",
       "      <td>0.932192</td>\n",
       "      <td>0.611667</td>\n",
       "    </tr>\n",
       "    <tr>\n",
       "      <th>3</th>\n",
       "      <td>3</td>\n",
       "      <td>0.163589</td>\n",
       "      <td>0.936107</td>\n",
       "      <td>0.650071</td>\n",
       "      <td>0.160783</td>\n",
       "      <td>0.937351</td>\n",
       "      <td>0.645197</td>\n",
       "    </tr>\n",
       "    <tr>\n",
       "      <th>4</th>\n",
       "      <td>4</td>\n",
       "      <td>0.157455</td>\n",
       "      <td>0.938549</td>\n",
       "      <td>0.662564</td>\n",
       "      <td>0.155753</td>\n",
       "      <td>0.939373</td>\n",
       "      <td>0.668906</td>\n",
       "    </tr>\n",
       "    <tr>\n",
       "      <th>5</th>\n",
       "      <td>5</td>\n",
       "      <td>0.151724</td>\n",
       "      <td>0.940865</td>\n",
       "      <td>0.674295</td>\n",
       "      <td>0.157237</td>\n",
       "      <td>0.937866</td>\n",
       "      <td>0.643923</td>\n",
       "    </tr>\n",
       "    <tr>\n",
       "      <th>6</th>\n",
       "      <td>6</td>\n",
       "      <td>0.146528</td>\n",
       "      <td>0.942956</td>\n",
       "      <td>0.685060</td>\n",
       "      <td>0.150359</td>\n",
       "      <td>0.941509</td>\n",
       "      <td>0.670152</td>\n",
       "    </tr>\n",
       "    <tr>\n",
       "      <th>7</th>\n",
       "      <td>7</td>\n",
       "      <td>0.141342</td>\n",
       "      <td>0.945132</td>\n",
       "      <td>0.695966</td>\n",
       "      <td>0.150148</td>\n",
       "      <td>0.941385</td>\n",
       "      <td>0.683334</td>\n",
       "    </tr>\n",
       "    <tr>\n",
       "      <th>8</th>\n",
       "      <td>8</td>\n",
       "      <td>0.138611</td>\n",
       "      <td>0.946035</td>\n",
       "      <td>0.700672</td>\n",
       "      <td>0.145070</td>\n",
       "      <td>0.944497</td>\n",
       "      <td>0.686421</td>\n",
       "    </tr>\n",
       "    <tr>\n",
       "      <th>9</th>\n",
       "      <td>9</td>\n",
       "      <td>0.134133</td>\n",
       "      <td>0.948002</td>\n",
       "      <td>0.710599</td>\n",
       "      <td>0.140449</td>\n",
       "      <td>0.945832</td>\n",
       "      <td>0.699738</td>\n",
       "    </tr>\n",
       "    <tr>\n",
       "      <th>10</th>\n",
       "      <td>10</td>\n",
       "      <td>0.130843</td>\n",
       "      <td>0.949248</td>\n",
       "      <td>0.717013</td>\n",
       "      <td>0.138583</td>\n",
       "      <td>0.946369</td>\n",
       "      <td>0.702634</td>\n",
       "    </tr>\n",
       "    <tr>\n",
       "      <th>11</th>\n",
       "      <td>11</td>\n",
       "      <td>0.128076</td>\n",
       "      <td>0.950324</td>\n",
       "      <td>0.722399</td>\n",
       "      <td>0.145817</td>\n",
       "      <td>0.943347</td>\n",
       "      <td>0.691516</td>\n",
       "    </tr>\n",
       "    <tr>\n",
       "      <th>12</th>\n",
       "      <td>12</td>\n",
       "      <td>0.125197</td>\n",
       "      <td>0.951444</td>\n",
       "      <td>0.728164</td>\n",
       "      <td>0.142707</td>\n",
       "      <td>0.944151</td>\n",
       "      <td>0.702922</td>\n",
       "    </tr>\n",
       "  </tbody>\n",
       "</table>\n",
       "</div>"
      ],
      "text/plain": [
       "    Unnamed: 0      loss  accuracy  binary_io_u_1  val_loss  val_accuracy  \\\n",
       "0            0  0.252877  0.897774       0.449877  0.201550      0.919573   \n",
       "1            1  0.193501  0.923810       0.587299  0.180407      0.929148   \n",
       "2            2  0.175054  0.931522       0.626432  0.171063      0.932192   \n",
       "3            3  0.163589  0.936107       0.650071  0.160783      0.937351   \n",
       "4            4  0.157455  0.938549       0.662564  0.155753      0.939373   \n",
       "5            5  0.151724  0.940865       0.674295  0.157237      0.937866   \n",
       "6            6  0.146528  0.942956       0.685060  0.150359      0.941509   \n",
       "7            7  0.141342  0.945132       0.695966  0.150148      0.941385   \n",
       "8            8  0.138611  0.946035       0.700672  0.145070      0.944497   \n",
       "9            9  0.134133  0.948002       0.710599  0.140449      0.945832   \n",
       "10          10  0.130843  0.949248       0.717013  0.138583      0.946369   \n",
       "11          11  0.128076  0.950324       0.722399  0.145817      0.943347   \n",
       "12          12  0.125197  0.951444       0.728164  0.142707      0.944151   \n",
       "\n",
       "    val_binary_io_u_1  \n",
       "0            0.539885  \n",
       "1            0.602877  \n",
       "2            0.611667  \n",
       "3            0.645197  \n",
       "4            0.668906  \n",
       "5            0.643923  \n",
       "6            0.670152  \n",
       "7            0.683334  \n",
       "8            0.686421  \n",
       "9            0.699738  \n",
       "10           0.702634  \n",
       "11           0.691516  \n",
       "12           0.702922  "
      ]
     },
     "execution_count": 15,
     "metadata": {},
     "output_type": "execute_result"
    }
   ],
   "source": [
    "unet_df"
   ]
  },
  {
   "cell_type": "code",
   "execution_count": 1,
   "id": "3ccd18d8-2d26-42a6-86de-8c51df5707bf",
   "metadata": {},
   "outputs": [
    {
     "data": {
      "text/html": [
       "\n",
       "      <iframe id=\"tensorboard-frame-a2ba20206dcc09\" width=\"100%\" height=\"800\" frameborder=\"0\">\n",
       "      </iframe>\n",
       "      <script>\n",
       "        (function() {\n",
       "          const frame = document.getElementById(\"tensorboard-frame-a2ba20206dcc09\");\n",
       "          const url = new URL(\"/proxy/6006/\", window.location);\n",
       "          const port = 0;\n",
       "          if (port) {\n",
       "            url.port = port;\n",
       "          }\n",
       "          frame.src = url;\n",
       "        })();\n",
       "      </script>\n",
       "    "
      ],
      "text/plain": [
       "<IPython.core.display.HTML object>"
      ]
     },
     "metadata": {},
     "output_type": "display_data"
    }
   ],
   "source": [
    "%load_ext tensorboard\n",
    "%tensorboard --logdir logs/fit"
   ]
  },
  {
   "cell_type": "code",
   "execution_count": null,
   "id": "e8a784cf-d3df-42b1-af19-784fb343d102",
   "metadata": {},
   "outputs": [],
   "source": []
  }
 ],
 "metadata": {
  "environment": {
   "kernel": "python3",
   "name": "tf2-gpu.2-11.m111",
   "type": "gcloud",
   "uri": "gcr.io/deeplearning-platform-release/tf2-gpu.2-11:m111"
  },
  "kernelspec": {
   "display_name": "Python 3",
   "language": "python",
   "name": "python3"
  },
  "language_info": {
   "codemirror_mode": {
    "name": "ipython",
    "version": 3
   },
   "file_extension": ".py",
   "mimetype": "text/x-python",
   "name": "python",
   "nbconvert_exporter": "python",
   "pygments_lexer": "ipython3",
   "version": "3.10.12"
  }
 },
 "nbformat": 4,
 "nbformat_minor": 5
}
